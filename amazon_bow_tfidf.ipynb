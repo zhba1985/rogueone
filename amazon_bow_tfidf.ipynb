{
 "cells": [
  {
   "cell_type": "code",
   "execution_count": 1,
   "metadata": {
    "_cell_guid": "b1076dfc-b9ad-4769-8c92-a6c4dae69d19",
    "_uuid": "8f2839f25d086af736a60e9eeb907d3b93b6e0e5",
    "execution": {
     "iopub.execute_input": "2021-07-25T19:02:47.475916Z",
     "iopub.status.busy": "2021-07-25T19:02:47.475487Z",
     "iopub.status.idle": "2021-07-25T19:02:47.489977Z",
     "shell.execute_reply": "2021-07-25T19:02:47.488427Z",
     "shell.execute_reply.started": "2021-07-25T19:02:47.475881Z"
    }
   },
   "outputs": [],
   "source": [
    "import pandas as pd \n",
    "import numpy as np \n",
    "import matplotlib.pyplot as plt \n",
    "import seaborn as sns \n",
    "import re \n",
    "%matplotlib inline \n",
    "\n",
    "import warnings\n",
    "warnings.filterwarnings(\"ignore\")\n",
    "plt.style.use('ggplot')\n",
    "\n",
    "import nltk\n",
    "from nltk import word_tokenize\n",
    "\n",
    "from sklearn.feature_extraction.text import CountVectorizer\n",
    "from sklearn.feature_extraction.text import TfidfVectorizer\n",
    "from collections import Counter\n",
    "#from wordcloud import WordCloud\n",
    "\n",
    "from sklearn.model_selection import train_test_split\n",
    "from sklearn.linear_model import LogisticRegression\n",
    "from sklearn.ensemble import RandomForestClassifier\n",
    "from sklearn.metrics import accuracy_score\n",
    "from sklearn.metrics import f1_score\n",
    "import xgboost as xgb\n",
    "\n",
    "from sklearn.model_selection import GridSearchCV\n",
    "import time"
   ]
  },
  {
   "cell_type": "code",
   "execution_count": 2,
   "metadata": {
    "execution": {
     "iopub.execute_input": "2021-07-25T19:02:47.492998Z",
     "iopub.status.busy": "2021-07-25T19:02:47.492201Z",
     "iopub.status.idle": "2021-07-25T19:02:51.277747Z",
     "shell.execute_reply": "2021-07-25T19:02:51.276498Z",
     "shell.execute_reply.started": "2021-07-25T19:02:47.492925Z"
    }
   },
   "outputs": [],
   "source": [
    "df = pd.read_csv('C:\\\\Users\\\\zba19\\\\Documents\\\\Python Scripts\\\\nlp\\\\amazon\\\\Reviews.csv')\n",
    "pd.set_option('display.max_colwidth', None)"
   ]
  },
  {
   "cell_type": "code",
   "execution_count": 3,
   "metadata": {
    "execution": {
     "iopub.execute_input": "2021-07-25T19:02:51.281097Z",
     "iopub.status.busy": "2021-07-25T19:02:51.280613Z",
     "iopub.status.idle": "2021-07-25T19:02:51.299244Z",
     "shell.execute_reply": "2021-07-25T19:02:51.297913Z",
     "shell.execute_reply.started": "2021-07-25T19:02:51.281048Z"
    }
   },
   "outputs": [
    {
     "data": {
      "text/html": [
       "<div>\n",
       "<style scoped>\n",
       "    .dataframe tbody tr th:only-of-type {\n",
       "        vertical-align: middle;\n",
       "    }\n",
       "\n",
       "    .dataframe tbody tr th {\n",
       "        vertical-align: top;\n",
       "    }\n",
       "\n",
       "    .dataframe thead th {\n",
       "        text-align: right;\n",
       "    }\n",
       "</style>\n",
       "<table border=\"1\" class=\"dataframe\">\n",
       "  <thead>\n",
       "    <tr style=\"text-align: right;\">\n",
       "      <th></th>\n",
       "      <th>Id</th>\n",
       "      <th>ProductId</th>\n",
       "      <th>UserId</th>\n",
       "      <th>ProfileName</th>\n",
       "      <th>HelpfulnessNumerator</th>\n",
       "      <th>HelpfulnessDenominator</th>\n",
       "      <th>Score</th>\n",
       "      <th>Time</th>\n",
       "      <th>Summary</th>\n",
       "      <th>Text</th>\n",
       "    </tr>\n",
       "  </thead>\n",
       "  <tbody>\n",
       "    <tr>\n",
       "      <th>0</th>\n",
       "      <td>1</td>\n",
       "      <td>B001E4KFG0</td>\n",
       "      <td>A3SGXH7AUHU8GW</td>\n",
       "      <td>delmartian</td>\n",
       "      <td>1</td>\n",
       "      <td>1</td>\n",
       "      <td>5</td>\n",
       "      <td>1303862400</td>\n",
       "      <td>Good Quality Dog Food</td>\n",
       "      <td>I have bought several of the Vitality canned dog food products and have found them all to be of good quality. The product looks more like a stew than a processed meat and it smells better. My Labrador is finicky and she appreciates this product better than  most.</td>\n",
       "    </tr>\n",
       "    <tr>\n",
       "      <th>1</th>\n",
       "      <td>2</td>\n",
       "      <td>B00813GRG4</td>\n",
       "      <td>A1D87F6ZCVE5NK</td>\n",
       "      <td>dll pa</td>\n",
       "      <td>0</td>\n",
       "      <td>0</td>\n",
       "      <td>1</td>\n",
       "      <td>1346976000</td>\n",
       "      <td>Not as Advertised</td>\n",
       "      <td>Product arrived labeled as Jumbo Salted Peanuts...the peanuts were actually small sized unsalted. Not sure if this was an error or if the vendor intended to represent the product as \"Jumbo\".</td>\n",
       "    </tr>\n",
       "    <tr>\n",
       "      <th>2</th>\n",
       "      <td>3</td>\n",
       "      <td>B000LQOCH0</td>\n",
       "      <td>ABXLMWJIXXAIN</td>\n",
       "      <td>Natalia Corres \"Natalia Corres\"</td>\n",
       "      <td>1</td>\n",
       "      <td>1</td>\n",
       "      <td>4</td>\n",
       "      <td>1219017600</td>\n",
       "      <td>\"Delight\" says it all</td>\n",
       "      <td>This is a confection that has been around a few centuries.  It is a light, pillowy citrus gelatin with nuts - in this case Filberts. And it is cut into tiny squares and then liberally coated with powdered sugar.  And it is a tiny mouthful of heaven.  Not too chewy, and very flavorful.  I highly recommend this yummy treat.  If you are familiar with the story of C.S. Lewis' \"The Lion, The Witch, and The Wardrobe\" - this is the treat that seduces Edmund into selling out his Brother and Sisters to the Witch.</td>\n",
       "    </tr>\n",
       "  </tbody>\n",
       "</table>\n",
       "</div>"
      ],
      "text/plain": [
       "   Id   ProductId          UserId                      ProfileName  \\\n",
       "0   1  B001E4KFG0  A3SGXH7AUHU8GW                       delmartian   \n",
       "1   2  B00813GRG4  A1D87F6ZCVE5NK                           dll pa   \n",
       "2   3  B000LQOCH0   ABXLMWJIXXAIN  Natalia Corres \"Natalia Corres\"   \n",
       "\n",
       "   HelpfulnessNumerator  HelpfulnessDenominator  Score        Time  \\\n",
       "0                     1                       1      5  1303862400   \n",
       "1                     0                       0      1  1346976000   \n",
       "2                     1                       1      4  1219017600   \n",
       "\n",
       "                 Summary  \\\n",
       "0  Good Quality Dog Food   \n",
       "1      Not as Advertised   \n",
       "2  \"Delight\" says it all   \n",
       "\n",
       "                                                                                                                                                                                                                                                                                                                                                                                                                                                                                                                            Text  \n",
       "0                                                                                                                                                                                                                                                        I have bought several of the Vitality canned dog food products and have found them all to be of good quality. The product looks more like a stew than a processed meat and it smells better. My Labrador is finicky and she appreciates this product better than  most.  \n",
       "1                                                                                                                                                                                                                                                                                                                                 Product arrived labeled as Jumbo Salted Peanuts...the peanuts were actually small sized unsalted. Not sure if this was an error or if the vendor intended to represent the product as \"Jumbo\".  \n",
       "2  This is a confection that has been around a few centuries.  It is a light, pillowy citrus gelatin with nuts - in this case Filberts. And it is cut into tiny squares and then liberally coated with powdered sugar.  And it is a tiny mouthful of heaven.  Not too chewy, and very flavorful.  I highly recommend this yummy treat.  If you are familiar with the story of C.S. Lewis' \"The Lion, The Witch, and The Wardrobe\" - this is the treat that seduces Edmund into selling out his Brother and Sisters to the Witch.  "
      ]
     },
     "execution_count": 3,
     "metadata": {},
     "output_type": "execute_result"
    }
   ],
   "source": [
    "df.head(3)"
   ]
  },
  {
   "cell_type": "code",
   "execution_count": 4,
   "metadata": {
    "execution": {
     "iopub.execute_input": "2021-07-25T19:02:51.302735Z",
     "iopub.status.busy": "2021-07-25T19:02:51.301840Z",
     "iopub.status.idle": "2021-07-25T19:02:51.315356Z",
     "shell.execute_reply": "2021-07-25T19:02:51.314072Z",
     "shell.execute_reply.started": "2021-07-25T19:02:51.302685Z"
    }
   },
   "outputs": [
    {
     "data": {
      "text/plain": [
       "(568454, 10)"
      ]
     },
     "execution_count": 4,
     "metadata": {},
     "output_type": "execute_result"
    }
   ],
   "source": [
    "df.shape"
   ]
  },
  {
   "cell_type": "code",
   "execution_count": 5,
   "metadata": {
    "execution": {
     "iopub.execute_input": "2021-07-25T19:02:51.318553Z",
     "iopub.status.busy": "2021-07-25T19:02:51.317581Z",
     "iopub.status.idle": "2021-07-25T19:02:51.479896Z",
     "shell.execute_reply": "2021-07-25T19:02:51.478357Z",
     "shell.execute_reply.started": "2021-07-25T19:02:51.318442Z"
    }
   },
   "outputs": [
    {
     "data": {
      "text/html": [
       "<div>\n",
       "<style scoped>\n",
       "    .dataframe tbody tr th:only-of-type {\n",
       "        vertical-align: middle;\n",
       "    }\n",
       "\n",
       "    .dataframe tbody tr th {\n",
       "        vertical-align: top;\n",
       "    }\n",
       "\n",
       "    .dataframe thead th {\n",
       "        text-align: right;\n",
       "    }\n",
       "</style>\n",
       "<table border=\"1\" class=\"dataframe\">\n",
       "  <thead>\n",
       "    <tr style=\"text-align: right;\">\n",
       "      <th></th>\n",
       "      <th>Id</th>\n",
       "      <th>ProductId</th>\n",
       "      <th>UserId</th>\n",
       "      <th>ProfileName</th>\n",
       "      <th>HelpfulnessNumerator</th>\n",
       "      <th>HelpfulnessDenominator</th>\n",
       "      <th>Score</th>\n",
       "      <th>Time</th>\n",
       "      <th>Summary</th>\n",
       "      <th>Text</th>\n",
       "    </tr>\n",
       "  </thead>\n",
       "  <tbody>\n",
       "    <tr>\n",
       "      <th>0</th>\n",
       "      <td>277536</td>\n",
       "      <td>B000VK8AVK</td>\n",
       "      <td>AVP3I6MPAICQG</td>\n",
       "      <td>Janae Stevens \"janaedawn\"</td>\n",
       "      <td>0</td>\n",
       "      <td>0</td>\n",
       "      <td>5</td>\n",
       "      <td>1253318400</td>\n",
       "      <td>Healthy yum.</td>\n",
       "      <td>I love these chips! They always make a great healthy snack when I'm stuck at work with just the vending machine for sustenance.</td>\n",
       "    </tr>\n",
       "    <tr>\n",
       "      <th>1</th>\n",
       "      <td>253902</td>\n",
       "      <td>B003VKR0EU</td>\n",
       "      <td>A22PDXVQMNCDLB</td>\n",
       "      <td>UmitoYama</td>\n",
       "      <td>1</td>\n",
       "      <td>1</td>\n",
       "      <td>2</td>\n",
       "      <td>1299110400</td>\n",
       "      <td>Crappy packaging. Formula is decent I suppose.</td>\n",
       "      <td>To add to the pile-on, really really hate the new packaging. Saw the reviews here and thought \"Come on people, it's just a package,\" but then when we actually had to deal with it (after having used the good ole fashioned big round canister). No, it's not world ending, but it's just unnecessary annoyance that you don't need when you're low on sleep and changing poop-filled diapers all day. I suppose on the bright side, the new packaging likely helped to justify the continued employment of a few folks in Enfamil's Brand Marketing department (\"Based on our focus group testing, modernizing our packaging will boost sales by .14%!\"). In this tough job market, I say good on 'em.&lt;br /&gt;&lt;br /&gt;As for the formula itself, well, it's formula. Our baby drinks this just the same as if she were drinking generic Costco formula. We put out the extra cash because this mixed better (i.e., it doesn't clump), but the annoyance factor of the new Enfamil packaging actually made us start considering alternatives. Then we saw an article today on Huffpost about infants in China developing breasts because of hormones in formula. It also mentioned the lack of regulation in the US on using milk or milk products (e.g., formula) from cows that have been injected with growth hormones. That was enough for me. Organic formula it is.&lt;br /&gt;&lt;br /&gt;Ciao Enfamil.</td>\n",
       "    </tr>\n",
       "    <tr>\n",
       "      <th>2</th>\n",
       "      <td>495521</td>\n",
       "      <td>B001EQ554K</td>\n",
       "      <td>A31XUUU841Y5DX</td>\n",
       "      <td>David Hochstein</td>\n",
       "      <td>1</td>\n",
       "      <td>1</td>\n",
       "      <td>5</td>\n",
       "      <td>1265760000</td>\n",
       "      <td>OMG</td>\n",
       "      <td>This stuff is the best. I put it on just about everything. Added to homemade gravy ... you have no idea.</td>\n",
       "    </tr>\n",
       "    <tr>\n",
       "      <th>3</th>\n",
       "      <td>373116</td>\n",
       "      <td>B000VDN1AM</td>\n",
       "      <td>A21EF5RAKR8SDY</td>\n",
       "      <td>somedude</td>\n",
       "      <td>0</td>\n",
       "      <td>0</td>\n",
       "      <td>5</td>\n",
       "      <td>1275782400</td>\n",
       "      <td>Tulsi tea is the best tea!</td>\n",
       "      <td>Organic India Tulsi tea is, to me, the absolute best tea I've ever had...both in terms of taste and effects. I have tried several types and have found that I enjoy Chai Masala and India breakfast the most (I enjoy them separately, but also, 1 bag of India breakfast and 1 of bag of Chai Masala makes a perfect iced chai.)&lt;br /&gt;&lt;br /&gt;Black tea will give most anyone an energy boost, but Tulsi tea is unique to me in that it truly does (as the manufacturers claim) leave one feeling both energized and relaxed (perhaps \"centered\" or \"focused\" would be the best word). Tack onto that the purported health benefits of tulsi, and you've got yourself one fantastic tea!&lt;br /&gt;&lt;br /&gt;There are a number of non-tulsi teas I enjoy, but Organic India's Tulsi Tea is the only tea I purchase on a consistent basis and that I always have on hand. Also, it is the one type of tea I am frequently recommending to friends and family. Give it a try!</td>\n",
       "    </tr>\n",
       "    <tr>\n",
       "      <th>4</th>\n",
       "      <td>547018</td>\n",
       "      <td>B0018CLUP8</td>\n",
       "      <td>AGZP148TCKDKD</td>\n",
       "      <td>Zak</td>\n",
       "      <td>2</td>\n",
       "      <td>2</td>\n",
       "      <td>5</td>\n",
       "      <td>1304899200</td>\n",
       "      <td>Great dog food</td>\n",
       "      <td>I have a German Shorthaired Pointer (3 yrs old) and a Lab mix (12 yrs old) and this food is great for both of them. I have heard vets compare this food to a Science Diet or better and it's much less expensive. Great food, great quality, the dogs love it.</td>\n",
       "    </tr>\n",
       "  </tbody>\n",
       "</table>\n",
       "</div>"
      ],
      "text/plain": [
       "       Id   ProductId          UserId                ProfileName  \\\n",
       "0  277536  B000VK8AVK   AVP3I6MPAICQG  Janae Stevens \"janaedawn\"   \n",
       "1  253902  B003VKR0EU  A22PDXVQMNCDLB                  UmitoYama   \n",
       "2  495521  B001EQ554K  A31XUUU841Y5DX            David Hochstein   \n",
       "3  373116  B000VDN1AM  A21EF5RAKR8SDY                   somedude   \n",
       "4  547018  B0018CLUP8   AGZP148TCKDKD                        Zak   \n",
       "\n",
       "   HelpfulnessNumerator  HelpfulnessDenominator  Score        Time  \\\n",
       "0                     0                       0      5  1253318400   \n",
       "1                     1                       1      2  1299110400   \n",
       "2                     1                       1      5  1265760000   \n",
       "3                     0                       0      5  1275782400   \n",
       "4                     2                       2      5  1304899200   \n",
       "\n",
       "                                          Summary  \\\n",
       "0                                    Healthy yum.   \n",
       "1  Crappy packaging. Formula is decent I suppose.   \n",
       "2                                             OMG   \n",
       "3                      Tulsi tea is the best tea!   \n",
       "4                                  Great dog food   \n",
       "\n",
       "                                                                                                                                                                                                                                                                                                                                                                                                                                                                                                                                                                                                                                                                                                                                                                                                                                                                                                                                                                                                                                                                                                                                                                                                                                                                                                                                                                                              Text  \n",
       "0                                                                                                                                                                                                                                                                                                                                                                                                                                                                                                                                                                                                                                                                                                                                                                                                                                                                                                                                                                                                                                                                                                                                                                                                                                                                  I love these chips! They always make a great healthy snack when I'm stuck at work with just the vending machine for sustenance.  \n",
       "1  To add to the pile-on, really really hate the new packaging. Saw the reviews here and thought \"Come on people, it's just a package,\" but then when we actually had to deal with it (after having used the good ole fashioned big round canister). No, it's not world ending, but it's just unnecessary annoyance that you don't need when you're low on sleep and changing poop-filled diapers all day. I suppose on the bright side, the new packaging likely helped to justify the continued employment of a few folks in Enfamil's Brand Marketing department (\"Based on our focus group testing, modernizing our packaging will boost sales by .14%!\"). In this tough job market, I say good on 'em.<br /><br />As for the formula itself, well, it's formula. Our baby drinks this just the same as if she were drinking generic Costco formula. We put out the extra cash because this mixed better (i.e., it doesn't clump), but the annoyance factor of the new Enfamil packaging actually made us start considering alternatives. Then we saw an article today on Huffpost about infants in China developing breasts because of hormones in formula. It also mentioned the lack of regulation in the US on using milk or milk products (e.g., formula) from cows that have been injected with growth hormones. That was enough for me. Organic formula it is.<br /><br />Ciao Enfamil.  \n",
       "2                                                                                                                                                                                                                                                                                                                                                                                                                                                                                                                                                                                                                                                                                                                                                                                                                                                                                                                                                                                                                                                                                                                                                                                                                                                                                         This stuff is the best. I put it on just about everything. Added to homemade gravy ... you have no idea.  \n",
       "3                                                                                                                                                                                                                                                                                                                                                                                                                               Organic India Tulsi tea is, to me, the absolute best tea I've ever had...both in terms of taste and effects. I have tried several types and have found that I enjoy Chai Masala and India breakfast the most (I enjoy them separately, but also, 1 bag of India breakfast and 1 of bag of Chai Masala makes a perfect iced chai.)<br /><br />Black tea will give most anyone an energy boost, but Tulsi tea is unique to me in that it truly does (as the manufacturers claim) leave one feeling both energized and relaxed (perhaps \"centered\" or \"focused\" would be the best word). Tack onto that the purported health benefits of tulsi, and you've got yourself one fantastic tea!<br /><br />There are a number of non-tulsi teas I enjoy, but Organic India's Tulsi Tea is the only tea I purchase on a consistent basis and that I always have on hand. Also, it is the one type of tea I am frequently recommending to friends and family. Give it a try!  \n",
       "4                                                                                                                                                                                                                                                                                                                                                                                                                                                                                                                                                                                                                                                                                                                                                                                                                                                                                                                                                                                                                                                                                                                                   I have a German Shorthaired Pointer (3 yrs old) and a Lab mix (12 yrs old) and this food is great for both of them. I have heard vets compare this food to a Science Diet or better and it's much less expensive. Great food, great quality, the dogs love it.  "
      ]
     },
     "execution_count": 5,
     "metadata": {},
     "output_type": "execute_result"
    }
   ],
   "source": [
    "df = df.sample(frac= 0.20, random_state=123).reset_index(drop = True)\n",
    "df.head()"
   ]
  },
  {
   "cell_type": "code",
   "execution_count": 6,
   "metadata": {
    "execution": {
     "iopub.execute_input": "2021-07-25T19:02:51.483913Z",
     "iopub.status.busy": "2021-07-25T19:02:51.482998Z",
     "iopub.status.idle": "2021-07-25T19:02:51.497257Z",
     "shell.execute_reply": "2021-07-25T19:02:51.493243Z",
     "shell.execute_reply.started": "2021-07-25T19:02:51.483857Z"
    }
   },
   "outputs": [
    {
     "data": {
      "text/plain": [
       "(113691, 10)"
      ]
     },
     "execution_count": 6,
     "metadata": {},
     "output_type": "execute_result"
    }
   ],
   "source": [
    "df.shape"
   ]
  },
  {
   "cell_type": "code",
   "execution_count": 7,
   "metadata": {
    "execution": {
     "iopub.execute_input": "2021-07-25T19:02:51.502545Z",
     "iopub.status.busy": "2021-07-25T19:02:51.500626Z",
     "iopub.status.idle": "2021-07-25T19:02:51.693437Z",
     "shell.execute_reply": "2021-07-25T19:02:51.690941Z",
     "shell.execute_reply.started": "2021-07-25T19:02:51.502377Z"
    }
   },
   "outputs": [
    {
     "name": "stdout",
     "output_type": "stream",
     "text": [
      "<class 'pandas.core.frame.DataFrame'>\n",
      "RangeIndex: 113691 entries, 0 to 113690\n",
      "Data columns (total 10 columns):\n",
      " #   Column                  Non-Null Count   Dtype \n",
      "---  ------                  --------------   ----- \n",
      " 0   Id                      113691 non-null  int64 \n",
      " 1   ProductId               113691 non-null  object\n",
      " 2   UserId                  113691 non-null  object\n",
      " 3   ProfileName             113687 non-null  object\n",
      " 4   HelpfulnessNumerator    113691 non-null  int64 \n",
      " 5   HelpfulnessDenominator  113691 non-null  int64 \n",
      " 6   Score                   113691 non-null  int64 \n",
      " 7   Time                    113691 non-null  int64 \n",
      " 8   Summary                 113687 non-null  object\n",
      " 9   Text                    113691 non-null  object\n",
      "dtypes: int64(5), object(5)\n",
      "memory usage: 8.7+ MB\n"
     ]
    }
   ],
   "source": [
    "df.info()"
   ]
  },
  {
   "cell_type": "code",
   "execution_count": 8,
   "metadata": {
    "execution": {
     "iopub.execute_input": "2021-07-25T19:02:51.702560Z",
     "iopub.status.busy": "2021-07-25T19:02:51.702095Z",
     "iopub.status.idle": "2021-07-25T19:02:51.877804Z",
     "shell.execute_reply": "2021-07-25T19:02:51.876149Z",
     "shell.execute_reply.started": "2021-07-25T19:02:51.702514Z"
    }
   },
   "outputs": [
    {
     "data": {
      "text/plain": [
       "Id                        0\n",
       "ProductId                 0\n",
       "UserId                    0\n",
       "ProfileName               4\n",
       "HelpfulnessNumerator      0\n",
       "HelpfulnessDenominator    0\n",
       "Score                     0\n",
       "Time                      0\n",
       "Summary                   4\n",
       "Text                      0\n",
       "dtype: int64"
      ]
     },
     "execution_count": 8,
     "metadata": {},
     "output_type": "execute_result"
    }
   ],
   "source": [
    "df.isna().sum()"
   ]
  },
  {
   "cell_type": "code",
   "execution_count": 9,
   "metadata": {
    "execution": {
     "iopub.execute_input": "2021-07-25T19:02:51.888074Z",
     "iopub.status.busy": "2021-07-25T19:02:51.887608Z",
     "iopub.status.idle": "2021-07-25T19:02:52.078278Z",
     "shell.execute_reply": "2021-07-25T19:02:52.076999Z",
     "shell.execute_reply.started": "2021-07-25T19:02:51.888027Z"
    }
   },
   "outputs": [],
   "source": [
    "df.dropna(inplace= True)"
   ]
  },
  {
   "cell_type": "code",
   "execution_count": 10,
   "metadata": {
    "execution": {
     "iopub.execute_input": "2021-07-25T19:02:52.081383Z",
     "iopub.status.busy": "2021-07-25T19:02:52.081065Z",
     "iopub.status.idle": "2021-07-25T19:02:52.194371Z",
     "shell.execute_reply": "2021-07-25T19:02:52.192413Z",
     "shell.execute_reply.started": "2021-07-25T19:02:52.081351Z"
    }
   },
   "outputs": [
    {
     "data": {
      "text/plain": [
       "Id                        0\n",
       "ProductId                 0\n",
       "UserId                    0\n",
       "ProfileName               0\n",
       "HelpfulnessNumerator      0\n",
       "HelpfulnessDenominator    0\n",
       "Score                     0\n",
       "Time                      0\n",
       "Summary                   0\n",
       "Text                      0\n",
       "dtype: int64"
      ]
     },
     "execution_count": 10,
     "metadata": {},
     "output_type": "execute_result"
    }
   ],
   "source": [
    "df.isna().sum()"
   ]
  },
  {
   "cell_type": "markdown",
   "metadata": {},
   "source": [
    "What is the distribution of ratings across dataset"
   ]
  },
  {
   "cell_type": "code",
   "execution_count": 11,
   "metadata": {
    "execution": {
     "iopub.execute_input": "2021-07-25T19:02:52.197687Z",
     "iopub.status.busy": "2021-07-25T19:02:52.196730Z",
     "iopub.status.idle": "2021-07-25T19:02:52.214201Z",
     "shell.execute_reply": "2021-07-25T19:02:52.212438Z",
     "shell.execute_reply.started": "2021-07-25T19:02:52.197640Z"
    }
   },
   "outputs": [
    {
     "data": {
      "text/plain": [
       "5    63.791420\n",
       "4    14.183299\n",
       "1     9.213339\n",
       "3     7.533228\n",
       "2     5.278714\n",
       "Name: Score, dtype: float64"
      ]
     },
     "execution_count": 11,
     "metadata": {},
     "output_type": "execute_result"
    }
   ],
   "source": [
    "rating_pct = df['Score'].value_counts()/len(df) * 100\n",
    "rating_pct"
   ]
  },
  {
   "cell_type": "code",
   "execution_count": 12,
   "metadata": {
    "execution": {
     "iopub.execute_input": "2021-07-25T19:02:52.216840Z",
     "iopub.status.busy": "2021-07-25T19:02:52.216163Z",
     "iopub.status.idle": "2021-07-25T19:02:52.389744Z",
     "shell.execute_reply": "2021-07-25T19:02:52.388127Z",
     "shell.execute_reply.started": "2021-07-25T19:02:52.216687Z"
    }
   },
   "outputs": [
    {
     "data": {
      "image/png": "[encoded data removed]",
      "text/plain": [
       "<Figure size 432x288 with 1 Axes>"
      ]
     },
     "metadata": {},
     "output_type": "display_data"
    }
   ],
   "source": [
    "rating_pct.plot.bar()\n",
    "plt.show()"
   ]
  },
  {
   "cell_type": "code",
   "execution_count": 13,
   "metadata": {
    "execution": {
     "iopub.execute_input": "2021-07-25T19:02:52.392540Z",
     "iopub.status.busy": "2021-07-25T19:02:52.392073Z",
     "iopub.status.idle": "2021-07-25T19:02:53.571095Z",
     "shell.execute_reply": "2021-07-25T19:02:53.569564Z",
     "shell.execute_reply.started": "2021-07-25T19:02:52.392478Z"
    }
   },
   "outputs": [
    {
     "data": {
      "image/png": "[encoded data removed]",
      "text/plain": [
       "<Figure size 1008x432 with 1 Axes>"
      ]
     },
     "metadata": {},
     "output_type": "display_data"
    }
   ],
   "source": [
    "#words per review\n",
    "plt.figure(figsize = (14,6))\n",
    "WordsPerReview = df['Text'].apply(lambda x: len(x.split(' ')))\n",
    "\n",
    "sns.histplot(WordsPerReview,bins = 100)\n",
    "\n",
    "plt.xlabel('Review Length')\n",
    "plt.show()"
   ]
  },
  {
   "cell_type": "markdown",
   "metadata": {},
   "source": [
    "#### Word cloud"
   ]
  },
  {
   "cell_type": "code",
   "execution_count": 14,
   "metadata": {
    "execution": {
     "iopub.execute_input": "2021-07-25T19:02:53.573897Z",
     "iopub.status.busy": "2021-07-25T19:02:53.573427Z"
    }
   },
   "outputs": [
    {
     "ename": "NameError",
     "evalue": "name 'WordCloud' is not defined",
     "output_type": "error",
     "traceback": [
      "\u001b[1;31m---------------------------------------------------------------------------\u001b[0m",
      "\u001b[1;31mNameError\u001b[0m                                 Traceback (most recent call last)",
      "\u001b[1;32m<ipython-input-14-a50214024d02>\u001b[0m in \u001b[0;36m<module>\u001b[1;34m\u001b[0m\n\u001b[0;32m      1\u001b[0m \u001b[0mtxt\u001b[0m \u001b[1;33m=\u001b[0m \u001b[1;34m' '\u001b[0m\u001b[1;33m.\u001b[0m\u001b[0mjoin\u001b[0m\u001b[1;33m(\u001b[0m\u001b[0mreview\u001b[0m \u001b[1;32mfor\u001b[0m \u001b[0mreview\u001b[0m \u001b[1;32min\u001b[0m \u001b[0mdf\u001b[0m\u001b[1;33m.\u001b[0m\u001b[0mText\u001b[0m\u001b[1;33m)\u001b[0m\u001b[1;33m\u001b[0m\u001b[1;33m\u001b[0m\u001b[0m\n\u001b[0;32m      2\u001b[0m \u001b[1;33m\u001b[0m\u001b[0m\n\u001b[1;32m----> 3\u001b[1;33m wordcloud = WordCloud(\n\u001b[0m\u001b[0;32m      4\u001b[0m             \u001b[0mbackground_color\u001b[0m \u001b[1;33m=\u001b[0m \u001b[1;34m'white'\u001b[0m\u001b[1;33m,\u001b[0m\u001b[1;33m\u001b[0m\u001b[1;33m\u001b[0m\u001b[0m\n\u001b[0;32m      5\u001b[0m             \u001b[0mmax_font_size\u001b[0m \u001b[1;33m=\u001b[0m \u001b[1;36m100\u001b[0m\u001b[1;33m,\u001b[0m\u001b[1;33m\u001b[0m\u001b[1;33m\u001b[0m\u001b[0m\n",
      "\u001b[1;31mNameError\u001b[0m: name 'WordCloud' is not defined"
     ]
    }
   ],
   "source": [
    "txt = ' '.join(review for review in df.Text)\n",
    "\n",
    "wordcloud = WordCloud(\n",
    "            background_color = 'white',\n",
    "            max_font_size = 100,\n",
    "            max_words = 100,\n",
    "            width = 800,\n",
    "            height = 500\n",
    "            ).generate(txt)\n",
    "\n",
    "\n",
    "plt.imshow(wordcloud,interpolation = 'bilinear')\n",
    "plt.axis('off')\n",
    "plt.show()"
   ]
  },
  {
   "cell_type": "markdown",
   "metadata": {},
   "source": [
    "#### Data Preprocessing and Transformation"
   ]
  },
  {
   "cell_type": "code",
   "execution_count": 14,
   "metadata": {},
   "outputs": [],
   "source": [
    "df = pd.DataFrame(df,columns = ['Score','Text'])\n",
    "df.rename(columns = {'Score':'Rating','Text':'Review'},inplace = True)"
   ]
  },
  {
   "cell_type": "code",
   "execution_count": 15,
   "metadata": {},
   "outputs": [],
   "source": [
    "def apply_sentiment(Rating):\n",
    "    if(Rating <=2):\n",
    "        return 0\n",
    "    elif(Rating>3):\n",
    "        return 1\n",
    "    else:\n",
    "        return 2"
   ]
  },
  {
   "cell_type": "code",
   "execution_count": 16,
   "metadata": {},
   "outputs": [],
   "source": [
    "df['Sentiment'] = df['Rating'].apply(apply_sentiment)\n",
    "df.drop(['Rating'],axis = 1, inplace = True)"
   ]
  },
  {
   "cell_type": "code",
   "execution_count": 17,
   "metadata": {},
   "outputs": [
    {
     "data": {
      "text/plain": [
       "1    88644\n",
       "0    16475\n",
       "2     8564\n",
       "Name: Sentiment, dtype: int64"
      ]
     },
     "execution_count": 17,
     "metadata": {},
     "output_type": "execute_result"
    }
   ],
   "source": [
    "sentiment = df['Sentiment'].value_counts()\n",
    "sentiment"
   ]
  },
  {
   "cell_type": "code",
   "execution_count": 18,
   "metadata": {},
   "outputs": [
    {
     "data": {
      "image/png": "[encoded data removed]",
      "text/plain": [
       "<Figure size 720x576 with 1 Axes>"
      ]
     },
     "metadata": {},
     "output_type": "display_data"
    }
   ],
   "source": [
    "plt.figure(figsize = ( 10,8))\n",
    "sns.countplot(data = df, x = 'Sentiment')\n",
    "plt.show()"
   ]
  },
  {
   "cell_type": "code",
   "execution_count": 19,
   "metadata": {},
   "outputs": [],
   "source": [
    "df=df[(df['Sentiment']==0) | (df['Sentiment']==1)]"
   ]
  },
  {
   "cell_type": "code",
   "execution_count": 20,
   "metadata": {},
   "outputs": [],
   "source": [
    "def clean_text(Review):\n",
    "   \n",
    "    Review = str(Review).lower() # convert to lowercase\n",
    "    Review = re.sub('\\[.*?\\]', '', Review) \n",
    "    Review = re.sub('https?://\\S+|www\\.\\S+', '', Review) # Remove URls\n",
    "    Review = re.sub('<.*?>+', '', Review)\n",
    "    Review = re.sub(r'[^a-z0-9\\s]', '', Review) # Remove punctuation\n",
    "    Review = re.sub('\\n', '', Review)\n",
    "    Review = re.sub('\\w*\\d\\w*', '', Review)\n",
    "    return Review\n"
   ]
  },
  {
   "cell_type": "code",
   "execution_count": 21,
   "metadata": {},
   "outputs": [],
   "source": [
    "df['Review'] = df['Review'].apply(clean_text)"
   ]
  },
  {
   "cell_type": "code",
   "execution_count": 22,
   "metadata": {},
   "outputs": [
    {
     "data": {
      "text/html": [
       "<div>\n",
       "<style scoped>\n",
       "    .dataframe tbody tr th:only-of-type {\n",
       "        vertical-align: middle;\n",
       "    }\n",
       "\n",
       "    .dataframe tbody tr th {\n",
       "        vertical-align: top;\n",
       "    }\n",
       "\n",
       "    .dataframe thead th {\n",
       "        text-align: right;\n",
       "    }\n",
       "</style>\n",
       "<table border=\"1\" class=\"dataframe\">\n",
       "  <thead>\n",
       "    <tr style=\"text-align: right;\">\n",
       "      <th></th>\n",
       "      <th>Review</th>\n",
       "      <th>Sentiment</th>\n",
       "    </tr>\n",
       "  </thead>\n",
       "  <tbody>\n",
       "    <tr>\n",
       "      <th>0</th>\n",
       "      <td>i love these chips they always make a great healthy snack when im stuck at work with just the vending machine for sustenance</td>\n",
       "      <td>1</td>\n",
       "    </tr>\n",
       "    <tr>\n",
       "      <th>1</th>\n",
       "      <td>to add to the pileon really really hate the new packaging saw the reviews here and thought come on people its just a package but then when we actually had to deal with it after having used the good ole fashioned big round canister no its not world ending but its just unnecessary annoyance that you dont need when youre low on sleep and changing poopfilled diapers all day i suppose on the bright side the new packaging likely helped to justify the continued employment of a few folks in enfamils brand marketing department based on our focus group testing modernizing our packaging will boost sales by  in this tough job market i say good on emas for the formula itself well its formula our baby drinks this just the same as if she were drinking generic costco formula we put out the extra cash because this mixed better ie it doesnt clump but the annoyance factor of the new enfamil packaging actually made us start considering alternatives then we saw an article today on huffpost about infants in china developing breasts because of hormones in formula it also mentioned the lack of regulation in the us on using milk or milk products eg formula from cows that have been injected with growth hormones that was enough for me organic formula it isciao enfamil</td>\n",
       "      <td>0</td>\n",
       "    </tr>\n",
       "    <tr>\n",
       "      <th>2</th>\n",
       "      <td>this stuff is the best i put it on just about everything added to homemade gravy  you have no idea</td>\n",
       "      <td>1</td>\n",
       "    </tr>\n",
       "    <tr>\n",
       "      <th>3</th>\n",
       "      <td>organic india tulsi tea is to me the absolute best tea ive ever hadboth in terms of taste and effects i have tried several types and have found that i enjoy chai masala and india breakfast the most i enjoy them separately but also  bag of india breakfast and  of bag of chai masala makes a perfect iced chaiblack tea will give most anyone an energy boost but tulsi tea is unique to me in that it truly does as the manufacturers claim leave one feeling both energized and relaxed perhaps centered or focused would be the best word tack onto that the purported health benefits of tulsi and youve got yourself one fantastic teathere are a number of nontulsi teas i enjoy but organic indias tulsi tea is the only tea i purchase on a consistent basis and that i always have on hand also it is the one type of tea i am frequently recommending to friends and family give it a try</td>\n",
       "      <td>1</td>\n",
       "    </tr>\n",
       "    <tr>\n",
       "      <th>4</th>\n",
       "      <td>i have a german shorthaired pointer  yrs old and a lab mix  yrs old and this food is great for both of them i have heard vets compare this food to a science diet or better and its much less expensive great food great quality the dogs love it</td>\n",
       "      <td>1</td>\n",
       "    </tr>\n",
       "  </tbody>\n",
       "</table>\n",
       "</div>"
      ],
      "text/plain": [
       "                                                                                                                                                                                                                                                                                                                                                                                                                                                                                                                                                                                                                                                                                                                                                                                                                                                                                                                                                                                                                                                                                                                                                                                                                                                                                                          Review  \\\n",
       "0                                                                                                                                                                                                                                                                                                                                                                                                                                                                                                                                                                                                                                                                                                                                                                                                                                                                                                                                                                                                                                                                                                                                                                                   i love these chips they always make a great healthy snack when im stuck at work with just the vending machine for sustenance   \n",
       "1  to add to the pileon really really hate the new packaging saw the reviews here and thought come on people its just a package but then when we actually had to deal with it after having used the good ole fashioned big round canister no its not world ending but its just unnecessary annoyance that you dont need when youre low on sleep and changing poopfilled diapers all day i suppose on the bright side the new packaging likely helped to justify the continued employment of a few folks in enfamils brand marketing department based on our focus group testing modernizing our packaging will boost sales by  in this tough job market i say good on emas for the formula itself well its formula our baby drinks this just the same as if she were drinking generic costco formula we put out the extra cash because this mixed better ie it doesnt clump but the annoyance factor of the new enfamil packaging actually made us start considering alternatives then we saw an article today on huffpost about infants in china developing breasts because of hormones in formula it also mentioned the lack of regulation in the us on using milk or milk products eg formula from cows that have been injected with growth hormones that was enough for me organic formula it isciao enfamil   \n",
       "2                                                                                                                                                                                                                                                                                                                                                                                                                                                                                                                                                                                                                                                                                                                                                                                                                                                                                                                                                                                                                                                                                                                                                                                                             this stuff is the best i put it on just about everything added to homemade gravy  you have no idea   \n",
       "3                                                                                                                                                                                                                                                                                                                                                                                                       organic india tulsi tea is to me the absolute best tea ive ever hadboth in terms of taste and effects i have tried several types and have found that i enjoy chai masala and india breakfast the most i enjoy them separately but also  bag of india breakfast and  of bag of chai masala makes a perfect iced chaiblack tea will give most anyone an energy boost but tulsi tea is unique to me in that it truly does as the manufacturers claim leave one feeling both energized and relaxed perhaps centered or focused would be the best word tack onto that the purported health benefits of tulsi and youve got yourself one fantastic teathere are a number of nontulsi teas i enjoy but organic indias tulsi tea is the only tea i purchase on a consistent basis and that i always have on hand also it is the one type of tea i am frequently recommending to friends and family give it a try   \n",
       "4                                                                                                                                                                                                                                                                                                                                                                                                                                                                                                                                                                                                                                                                                                                                                                                                                                                                                                                                                                                                                                                              i have a german shorthaired pointer  yrs old and a lab mix  yrs old and this food is great for both of them i have heard vets compare this food to a science diet or better and its much less expensive great food great quality the dogs love it   \n",
       "\n",
       "   Sentiment  \n",
       "0          1  \n",
       "1          0  \n",
       "2          1  \n",
       "3          1  \n",
       "4          1  "
      ]
     },
     "execution_count": 22,
     "metadata": {},
     "output_type": "execute_result"
    }
   ],
   "source": [
    "df.head()"
   ]
  },
  {
   "cell_type": "code",
   "execution_count": 23,
   "metadata": {},
   "outputs": [
    {
     "name": "stderr",
     "output_type": "stream",
     "text": [
      "[nltk_data] Downloading package stopwords to\n",
      "[nltk_data]     C:\\Users\\zba19\\AppData\\Roaming\\nltk_data...\n",
      "[nltk_data]   Package stopwords is already up-to-date!\n",
      "[nltk_data] Downloading package words to\n",
      "[nltk_data]     C:\\Users\\zba19\\AppData\\Roaming\\nltk_data...\n",
      "[nltk_data]   Package words is already up-to-date!\n",
      "[nltk_data] Downloading package punkt to\n",
      "[nltk_data]     C:\\Users\\zba19\\AppData\\Roaming\\nltk_data...\n",
      "[nltk_data]   Package punkt is already up-to-date!\n"
     ]
    },
    {
     "data": {
      "text/plain": [
       "True"
      ]
     },
     "execution_count": 23,
     "metadata": {},
     "output_type": "execute_result"
    }
   ],
   "source": [
    "from nltk.corpus import stopwords, words\n",
    "nltk.download('stopwords')\n",
    "nltk.download('words')\n",
    "nltk.download('punkt')\n",
    "\n",
    "#stop_words = set(stopwords.words('english'))\n",
    "#words = nltk.word_tokenize(sentence)"
   ]
  },
  {
   "cell_type": "code",
   "execution_count": 24,
   "metadata": {},
   "outputs": [],
   "source": [
    "stop_words = stopwords.words('english')\n",
    "stop_words.remove('no')\n",
    "stop_words.remove('not')"
   ]
  },
  {
   "cell_type": "code",
   "execution_count": 25,
   "metadata": {},
   "outputs": [],
   "source": [
    "def remove_stopword(sentence, stop_words=stop_words):\n",
    "    tlist=sentence.split()\n",
    "    tlist=[k for k in tlist if k not in stop_words]\n",
    "    #return [word for word in nltk.word_tokenize(sentence) if word not in stop_words]\n",
    "    return ' '.join(tlist)\n",
    "\n",
    "df['reviews_text'] = df['Review'].apply(remove_stopword)\n"
   ]
  },
  {
   "cell_type": "code",
   "execution_count": 26,
   "metadata": {},
   "outputs": [
    {
     "data": {
      "text/html": [
       "<div>\n",
       "<style scoped>\n",
       "    .dataframe tbody tr th:only-of-type {\n",
       "        vertical-align: middle;\n",
       "    }\n",
       "\n",
       "    .dataframe tbody tr th {\n",
       "        vertical-align: top;\n",
       "    }\n",
       "\n",
       "    .dataframe thead th {\n",
       "        text-align: right;\n",
       "    }\n",
       "</style>\n",
       "<table border=\"1\" class=\"dataframe\">\n",
       "  <thead>\n",
       "    <tr style=\"text-align: right;\">\n",
       "      <th></th>\n",
       "      <th>Review</th>\n",
       "      <th>Sentiment</th>\n",
       "      <th>reviews_text</th>\n",
       "    </tr>\n",
       "  </thead>\n",
       "  <tbody>\n",
       "    <tr>\n",
       "      <th>0</th>\n",
       "      <td>i love these chips they always make a great healthy snack when im stuck at work with just the vending machine for sustenance</td>\n",
       "      <td>1</td>\n",
       "      <td>love chips always make great healthy snack im stuck work vending machine sustenance</td>\n",
       "    </tr>\n",
       "    <tr>\n",
       "      <th>1</th>\n",
       "      <td>to add to the pileon really really hate the new packaging saw the reviews here and thought come on people its just a package but then when we actually had to deal with it after having used the good ole fashioned big round canister no its not world ending but its just unnecessary annoyance that you dont need when youre low on sleep and changing poopfilled diapers all day i suppose on the bright side the new packaging likely helped to justify the continued employment of a few folks in enfamils brand marketing department based on our focus group testing modernizing our packaging will boost sales by  in this tough job market i say good on emas for the formula itself well its formula our baby drinks this just the same as if she were drinking generic costco formula we put out the extra cash because this mixed better ie it doesnt clump but the annoyance factor of the new enfamil packaging actually made us start considering alternatives then we saw an article today on huffpost about infants in china developing breasts because of hormones in formula it also mentioned the lack of regulation in the us on using milk or milk products eg formula from cows that have been injected with growth hormones that was enough for me organic formula it isciao enfamil</td>\n",
       "      <td>0</td>\n",
       "      <td>add pileon really really hate new packaging saw reviews thought come people package actually deal used good ole fashioned big round canister no not world ending unnecessary annoyance dont need youre low sleep changing poopfilled diapers day suppose bright side new packaging likely helped justify continued employment folks enfamils brand marketing department based focus group testing modernizing packaging boost sales tough job market say good emas formula well formula baby drinks drinking generic costco formula put extra cash mixed better ie doesnt clump annoyance factor new enfamil packaging actually made us start considering alternatives saw article today huffpost infants china developing breasts hormones formula also mentioned lack regulation us using milk milk products eg formula cows injected growth hormones enough organic formula isciao enfamil</td>\n",
       "    </tr>\n",
       "    <tr>\n",
       "      <th>2</th>\n",
       "      <td>this stuff is the best i put it on just about everything added to homemade gravy  you have no idea</td>\n",
       "      <td>1</td>\n",
       "      <td>stuff best put everything added homemade gravy no idea</td>\n",
       "    </tr>\n",
       "    <tr>\n",
       "      <th>3</th>\n",
       "      <td>organic india tulsi tea is to me the absolute best tea ive ever hadboth in terms of taste and effects i have tried several types and have found that i enjoy chai masala and india breakfast the most i enjoy them separately but also  bag of india breakfast and  of bag of chai masala makes a perfect iced chaiblack tea will give most anyone an energy boost but tulsi tea is unique to me in that it truly does as the manufacturers claim leave one feeling both energized and relaxed perhaps centered or focused would be the best word tack onto that the purported health benefits of tulsi and youve got yourself one fantastic teathere are a number of nontulsi teas i enjoy but organic indias tulsi tea is the only tea i purchase on a consistent basis and that i always have on hand also it is the one type of tea i am frequently recommending to friends and family give it a try</td>\n",
       "      <td>1</td>\n",
       "      <td>organic india tulsi tea absolute best tea ive ever hadboth terms taste effects tried several types found enjoy chai masala india breakfast enjoy separately also bag india breakfast bag chai masala makes perfect iced chaiblack tea give anyone energy boost tulsi tea unique truly manufacturers claim leave one feeling energized relaxed perhaps centered focused would best word tack onto purported health benefits tulsi youve got one fantastic teathere number nontulsi teas enjoy organic indias tulsi tea tea purchase consistent basis always hand also one type tea frequently recommending friends family give try</td>\n",
       "    </tr>\n",
       "    <tr>\n",
       "      <th>4</th>\n",
       "      <td>i have a german shorthaired pointer  yrs old and a lab mix  yrs old and this food is great for both of them i have heard vets compare this food to a science diet or better and its much less expensive great food great quality the dogs love it</td>\n",
       "      <td>1</td>\n",
       "      <td>german shorthaired pointer yrs old lab mix yrs old food great heard vets compare food science diet better much less expensive great food great quality dogs love</td>\n",
       "    </tr>\n",
       "  </tbody>\n",
       "</table>\n",
       "</div>"
      ],
      "text/plain": [
       "                                                                                                                                                                                                                                                                                                                                                                                                                                                                                                                                                                                                                                                                                                                                                                                                                                                                                                                                                                                                                                                                                                                                                                                                                                                                                                          Review  \\\n",
       "0                                                                                                                                                                                                                                                                                                                                                                                                                                                                                                                                                                                                                                                                                                                                                                                                                                                                                                                                                                                                                                                                                                                                                                                   i love these chips they always make a great healthy snack when im stuck at work with just the vending machine for sustenance   \n",
       "1  to add to the pileon really really hate the new packaging saw the reviews here and thought come on people its just a package but then when we actually had to deal with it after having used the good ole fashioned big round canister no its not world ending but its just unnecessary annoyance that you dont need when youre low on sleep and changing poopfilled diapers all day i suppose on the bright side the new packaging likely helped to justify the continued employment of a few folks in enfamils brand marketing department based on our focus group testing modernizing our packaging will boost sales by  in this tough job market i say good on emas for the formula itself well its formula our baby drinks this just the same as if she were drinking generic costco formula we put out the extra cash because this mixed better ie it doesnt clump but the annoyance factor of the new enfamil packaging actually made us start considering alternatives then we saw an article today on huffpost about infants in china developing breasts because of hormones in formula it also mentioned the lack of regulation in the us on using milk or milk products eg formula from cows that have been injected with growth hormones that was enough for me organic formula it isciao enfamil   \n",
       "2                                                                                                                                                                                                                                                                                                                                                                                                                                                                                                                                                                                                                                                                                                                                                                                                                                                                                                                                                                                                                                                                                                                                                                                                             this stuff is the best i put it on just about everything added to homemade gravy  you have no idea   \n",
       "3                                                                                                                                                                                                                                                                                                                                                                                                       organic india tulsi tea is to me the absolute best tea ive ever hadboth in terms of taste and effects i have tried several types and have found that i enjoy chai masala and india breakfast the most i enjoy them separately but also  bag of india breakfast and  of bag of chai masala makes a perfect iced chaiblack tea will give most anyone an energy boost but tulsi tea is unique to me in that it truly does as the manufacturers claim leave one feeling both energized and relaxed perhaps centered or focused would be the best word tack onto that the purported health benefits of tulsi and youve got yourself one fantastic teathere are a number of nontulsi teas i enjoy but organic indias tulsi tea is the only tea i purchase on a consistent basis and that i always have on hand also it is the one type of tea i am frequently recommending to friends and family give it a try   \n",
       "4                                                                                                                                                                                                                                                                                                                                                                                                                                                                                                                                                                                                                                                                                                                                                                                                                                                                                                                                                                                                                                                              i have a german shorthaired pointer  yrs old and a lab mix  yrs old and this food is great for both of them i have heard vets compare this food to a science diet or better and its much less expensive great food great quality the dogs love it   \n",
       "\n",
       "   Sentiment  \\\n",
       "0          1   \n",
       "1          0   \n",
       "2          1   \n",
       "3          1   \n",
       "4          1   \n",
       "\n",
       "                                                                                                                                                                                                                                                                                                                                                                                                                                                                                                                                                                                                                                                                                                                                                                                                                                                                                    reviews_text  \n",
       "0                                                                                                                                                                                                                                                                                                                                                                                                                                                                                                                                                                                                                                                                                                                                                                                                            love chips always make great healthy snack im stuck work vending machine sustenance  \n",
       "1  add pileon really really hate new packaging saw reviews thought come people package actually deal used good ole fashioned big round canister no not world ending unnecessary annoyance dont need youre low sleep changing poopfilled diapers day suppose bright side new packaging likely helped justify continued employment folks enfamils brand marketing department based focus group testing modernizing packaging boost sales tough job market say good emas formula well formula baby drinks drinking generic costco formula put extra cash mixed better ie doesnt clump annoyance factor new enfamil packaging actually made us start considering alternatives saw article today huffpost infants china developing breasts hormones formula also mentioned lack regulation us using milk milk products eg formula cows injected growth hormones enough organic formula isciao enfamil  \n",
       "2                                                                                                                                                                                                                                                                                                                                                                                                                                                                                                                                                                                                                                                                                                                                                                                                                                         stuff best put everything added homemade gravy no idea  \n",
       "3                                                                                                                                                                                                                                                              organic india tulsi tea absolute best tea ive ever hadboth terms taste effects tried several types found enjoy chai masala india breakfast enjoy separately also bag india breakfast bag chai masala makes perfect iced chaiblack tea give anyone energy boost tulsi tea unique truly manufacturers claim leave one feeling energized relaxed perhaps centered focused would best word tack onto purported health benefits tulsi youve got one fantastic teathere number nontulsi teas enjoy organic indias tulsi tea tea purchase consistent basis always hand also one type tea frequently recommending friends family give try  \n",
       "4                                                                                                                                                                                                                                                                                                                                                                                                                                                                                                                                                                                                                                                                                                                               german shorthaired pointer yrs old lab mix yrs old food great heard vets compare food science diet better much less expensive great food great quality dogs love  "
      ]
     },
     "execution_count": 26,
     "metadata": {},
     "output_type": "execute_result"
    }
   ],
   "source": [
    "df.head()"
   ]
  },
  {
   "cell_type": "markdown",
   "metadata": {},
   "source": [
    "## drop messages too short"
   ]
  },
  {
   "cell_type": "code",
   "execution_count": 27,
   "metadata": {},
   "outputs": [
    {
     "data": {
      "text/html": [
       "<div>\n",
       "<style scoped>\n",
       "    .dataframe tbody tr th:only-of-type {\n",
       "        vertical-align: middle;\n",
       "    }\n",
       "\n",
       "    .dataframe tbody tr th {\n",
       "        vertical-align: top;\n",
       "    }\n",
       "\n",
       "    .dataframe thead th {\n",
       "        text-align: right;\n",
       "    }\n",
       "</style>\n",
       "<table border=\"1\" class=\"dataframe\">\n",
       "  <thead>\n",
       "    <tr style=\"text-align: right;\">\n",
       "      <th></th>\n",
       "      <th>Review</th>\n",
       "      <th>Sentiment</th>\n",
       "      <th>reviews_text</th>\n",
       "    </tr>\n",
       "  </thead>\n",
       "  <tbody>\n",
       "    <tr>\n",
       "      <th>4987</th>\n",
       "      <td></td>\n",
       "      <td>1</td>\n",
       "      <td></td>\n",
       "    </tr>\n",
       "    <tr>\n",
       "      <th>74702</th>\n",
       "      <td></td>\n",
       "      <td>1</td>\n",
       "      <td></td>\n",
       "    </tr>\n",
       "    <tr>\n",
       "      <th>95798</th>\n",
       "      <td></td>\n",
       "      <td>1</td>\n",
       "      <td></td>\n",
       "    </tr>\n",
       "    <tr>\n",
       "      <th>104609</th>\n",
       "      <td>yummy</td>\n",
       "      <td>1</td>\n",
       "      <td>yummy</td>\n",
       "    </tr>\n",
       "  </tbody>\n",
       "</table>\n",
       "</div>"
      ],
      "text/plain": [
       "        Review  Sentiment reviews_text\n",
       "4987                    1             \n",
       "74702                   1             \n",
       "95798                   1             \n",
       "104609   yummy          1        yummy"
      ]
     },
     "metadata": {},
     "output_type": "display_data"
    }
   ],
   "source": [
    "idx=df.loc[df[\"reviews_text\"].apply(lambda x: len(x.split())<2)].index\n",
    "display(df.loc[idx])"
   ]
  },
  {
   "cell_type": "code",
   "execution_count": 28,
   "metadata": {},
   "outputs": [],
   "source": [
    "df.drop(index=idx, inplace=True)"
   ]
  },
  {
   "cell_type": "code",
   "execution_count": 29,
   "metadata": {},
   "outputs": [
    {
     "data": {
      "text/plain": [
       "(105115, 3)"
      ]
     },
     "execution_count": 29,
     "metadata": {},
     "output_type": "execute_result"
    }
   ],
   "source": [
    "df.shape"
   ]
  },
  {
   "cell_type": "markdown",
   "metadata": {},
   "source": [
    "## check duplicated messages"
   ]
  },
  {
   "cell_type": "code",
   "execution_count": 30,
   "metadata": {},
   "outputs": [
    {
     "data": {
      "text/plain": [
       "True"
      ]
     },
     "execution_count": 30,
     "metadata": {},
     "output_type": "execute_result"
    }
   ],
   "source": [
    "df.duplicated(keep=False).any()"
   ]
  },
  {
   "cell_type": "code",
   "execution_count": 31,
   "metadata": {},
   "outputs": [
    {
     "data": {
      "text/html": [
       "<div>\n",
       "<style scoped>\n",
       "    .dataframe tbody tr th:only-of-type {\n",
       "        vertical-align: middle;\n",
       "    }\n",
       "\n",
       "    .dataframe tbody tr th {\n",
       "        vertical-align: top;\n",
       "    }\n",
       "\n",
       "    .dataframe thead th {\n",
       "        text-align: right;\n",
       "    }\n",
       "</style>\n",
       "<table border=\"1\" class=\"dataframe\">\n",
       "  <thead>\n",
       "    <tr style=\"text-align: right;\">\n",
       "      <th></th>\n",
       "      <th>Review</th>\n",
       "      <th>Sentiment</th>\n",
       "      <th>reviews_text</th>\n",
       "    </tr>\n",
       "  </thead>\n",
       "  <tbody>\n",
       "    <tr>\n",
       "      <th>0</th>\n",
       "      <td>i love these chips they always make a great healthy snack when im stuck at work with just the vending machine for sustenance</td>\n",
       "      <td>1</td>\n",
       "      <td>love chips always make great healthy snack im stuck work vending machine sustenance</td>\n",
       "    </tr>\n",
       "    <tr>\n",
       "      <th>6</th>\n",
       "      <td>be prepared for visitors the decadent aroma of chocolate raspberry truffle imbues your kitchen or office as you brew this light roast from van houtte we brewed a couple cups at the office in a cubicle and the rich aroma carried through the office air vents attracting droopyeyed coworkers in search of chocolatedelicate for a flavored coffee this blend made a delicious afternoon treat and amazingly the artificial flavoring doesnt leave a strong chemical aftertaste the smell of rich chocolate and raspberries lingers after the last sip giving the impression that a team of chocolatiers just departed honestly  is heady stuffwe tested and enjoyed van houtte chocolate raspberry truffle both on keurigs small cup  oz and small mug  oz settings according to the van houtte website the  size makes the ideal cup of coffee but you can vary the cup size if you want to change the coffees strength for example choose a larger cup size to get a less intense cup of coffeeif you are concerned about freshness our box of  cups came with an expiration date of july   or more than six months from our purchase daterating five stars</td>\n",
       "      <td>1</td>\n",
       "      <td>prepared visitors decadent aroma chocolate raspberry truffle imbues kitchen office brew light roast van houtte brewed couple cups office cubicle rich aroma carried office air vents attracting droopyeyed coworkers search chocolatedelicate flavored coffee blend made delicious afternoon treat amazingly artificial flavoring doesnt leave strong chemical aftertaste smell rich chocolate raspberries lingers last sip giving impression team chocolatiers departed honestly heady stuffwe tested enjoyed van houtte chocolate raspberry truffle keurigs small cup oz small mug oz settings according van houtte website size makes ideal cup coffee vary cup size want change coffees strength example choose larger cup size get less intense cup coffeeif concerned freshness box cups came expiration date july six months purchase daterating five stars</td>\n",
       "    </tr>\n",
       "    <tr>\n",
       "      <th>19</th>\n",
       "      <td>since we got our keurigwe have been trying different flavors and brands of coffeeteahot chocolateand cider out of all the coffee brands i have to say that green mountain far surpasses all the other brands that we have tried great taste and not so expensive that it hurts the budget</td>\n",
       "      <td>1</td>\n",
       "      <td>since got keurigwe trying different flavors brands coffeeteahot chocolateand cider coffee brands say green mountain far surpasses brands tried great taste not expensive hurts budget</td>\n",
       "    </tr>\n",
       "    <tr>\n",
       "      <th>20</th>\n",
       "      <td>bought a sample pack today of the jamaica me crazy and love the flavor  the flavor is not too powerful nor was it  overwhelming  id recommend the wolf gang puck kcups</td>\n",
       "      <td>1</td>\n",
       "      <td>bought sample pack today jamaica crazy love flavor flavor not powerful overwhelming id recommend wolf gang puck kcups</td>\n",
       "    </tr>\n",
       "    <tr>\n",
       "      <th>26</th>\n",
       "      <td>my cat is picky especially when it comes to dry food  she will happily go days refusing to eat anything if i push a kibble she doesnt like on her damn torties  i switched my cat from friskies to hills scienc diet when she grew to adulthood  then i decided to try one of those natural diets with no fillers and only uses real meats and blah blah blah  one she wouldnt go near and the other she would eat reluctantly  except the super active petite   tortie grew to just over ten pounds waddled when she walked because she was horribly obese and slept  hours a day waking up only to eat and her coat was staritng ot lose its shine  that scared the hell out of me  so i switched back to hills  with a week she was starting to show interest in toys again and was already starting to lose that swaying flabby fat belly  now shes back down to   and very active healthy and happy  i will never switch her food again</td>\n",
       "      <td>1</td>\n",
       "      <td>cat picky especially comes dry food happily go days refusing eat anything push kibble doesnt like damn torties switched cat friskies hills scienc diet grew adulthood decided try one natural diets no fillers uses real meats blah blah blah one wouldnt go near would eat reluctantly except super active petite tortie grew ten pounds waddled walked horribly obese slept hours day waking eat coat staritng ot lose shine scared hell switched back hills week starting show interest toys already starting lose swaying flabby fat belly shes back active healthy happy never switch food</td>\n",
       "    </tr>\n",
       "    <tr>\n",
       "      <th>...</th>\n",
       "      <td>...</td>\n",
       "      <td>...</td>\n",
       "      <td>...</td>\n",
       "    </tr>\n",
       "    <tr>\n",
       "      <th>113652</th>\n",
       "      <td>when i saw the mint iced tea powder on the website i thought i would like it but when  i received it and tried one i was very disappointed it was the green tea and not sweet at all the flavor was nothing at all like an iced tea like i was expecting i had to add sugar to it to get a flavor that i like to be similar to regular iced tea i dont even know if ill be using the others i had received sorry about this but you did ask for my review on this</td>\n",
       "      <td>0</td>\n",
       "      <td>saw mint iced tea powder website thought would like received tried one disappointed green tea not sweet flavor nothing like iced tea like expecting add sugar get flavor like similar regular iced tea dont even know ill using others received sorry ask review</td>\n",
       "    </tr>\n",
       "    <tr>\n",
       "      <th>113655</th>\n",
       "      <td>if you love coconut then this is for you  as a bona fide coconut i can tell you this product is deliciouscrispy and lightly sweet wide flakes  the drawbacks are that the bag contains a pretty small amount and the pieces are brittle and break  that being said the coconut is great for snacking or garnishing dessertsbaked goods</td>\n",
       "      <td>1</td>\n",
       "      <td>love coconut bona fide coconut tell product deliciouscrispy lightly sweet wide flakes drawbacks bag contains pretty small amount pieces brittle break said coconut great snacking garnishing dessertsbaked goods</td>\n",
       "    </tr>\n",
       "    <tr>\n",
       "      <th>113659</th>\n",
       "      <td>i love this product  the only suggestion i could make to improve it would be to allow the customer to select the combination of flavors</td>\n",
       "      <td>1</td>\n",
       "      <td>love product suggestion could make improve would allow customer select combination flavors</td>\n",
       "    </tr>\n",
       "    <tr>\n",
       "      <th>113680</th>\n",
       "      <td>if you are looking for something natural to relieve and possible stop hot flashessage tea will do it a glass in the morning and one at night and wow what a difference it made</td>\n",
       "      <td>1</td>\n",
       "      <td>looking something natural relieve possible stop hot flashessage tea glass morning one night wow difference made</td>\n",
       "    </tr>\n",
       "    <tr>\n",
       "      <th>113689</th>\n",
       "      <td>i use these as a training treat when walking and my dog loves all the flavors  i like that they are made in usa and natural</td>\n",
       "      <td>1</td>\n",
       "      <td>use training treat walking dog loves flavors like made usa natural</td>\n",
       "    </tr>\n",
       "  </tbody>\n",
       "</table>\n",
       "<p>24187 rows × 3 columns</p>\n",
       "</div>"
      ],
      "text/plain": [
       "                                                                                                                                                                                                                                                                                                                                                                                                                                                                                                                                                                                                                                                                                                                                                                                                                                                                                                                                                                                                                                                                                                                                                                   Review  \\\n",
       "0                                                                                                                                                                                                                                                                                                                                                                                                                                                                                                                                                                                                                                                                                                                                                                                                                                                                                                                                                                                                                                            i love these chips they always make a great healthy snack when im stuck at work with just the vending machine for sustenance   \n",
       "6       be prepared for visitors the decadent aroma of chocolate raspberry truffle imbues your kitchen or office as you brew this light roast from van houtte we brewed a couple cups at the office in a cubicle and the rich aroma carried through the office air vents attracting droopyeyed coworkers in search of chocolatedelicate for a flavored coffee this blend made a delicious afternoon treat and amazingly the artificial flavoring doesnt leave a strong chemical aftertaste the smell of rich chocolate and raspberries lingers after the last sip giving the impression that a team of chocolatiers just departed honestly  is heady stuffwe tested and enjoyed van houtte chocolate raspberry truffle both on keurigs small cup  oz and small mug  oz settings according to the van houtte website the  size makes the ideal cup of coffee but you can vary the cup size if you want to change the coffees strength for example choose a larger cup size to get a less intense cup of coffeeif you are concerned about freshness our box of  cups came with an expiration date of july   or more than six months from our purchase daterating five stars   \n",
       "19                                                                                                                                                                                                                                                                                                                                                                                                                                                                                                                                                                                                                                                                                                                                                                                                                                                                              since we got our keurigwe have been trying different flavors and brands of coffeeteahot chocolateand cider out of all the coffee brands i have to say that green mountain far surpasses all the other brands that we have tried great taste and not so expensive that it hurts the budget   \n",
       "20                                                                                                                                                                                                                                                                                                                                                                                                                                                                                                                                                                                                                                                                                                                                                                                                                                                                                                                                                                                                 bought a sample pack today of the jamaica me crazy and love the flavor  the flavor is not too powerful nor was it  overwhelming  id recommend the wolf gang puck kcups   \n",
       "26                                                                                                                                                                                                                           my cat is picky especially when it comes to dry food  she will happily go days refusing to eat anything if i push a kibble she doesnt like on her damn torties  i switched my cat from friskies to hills scienc diet when she grew to adulthood  then i decided to try one of those natural diets with no fillers and only uses real meats and blah blah blah  one she wouldnt go near and the other she would eat reluctantly  except the super active petite   tortie grew to just over ten pounds waddled when she walked because she was horribly obese and slept  hours a day waking up only to eat and her coat was staritng ot lose its shine  that scared the hell out of me  so i switched back to hills  with a week she was starting to show interest in toys again and was already starting to lose that swaying flabby fat belly  now shes back down to   and very active healthy and happy  i will never switch her food again   \n",
       "...                                                                                                                                                                                                                                                                                                                                                                                                                                                                                                                                                                                                                                                                                                                                                                                                                                                                                                                                                                                                                                                                                                                                                                   ...   \n",
       "113652                                                                                                                                                                                                                                                                                                                                                                                                                                                                                                                                                                                                                                                                                                  when i saw the mint iced tea powder on the website i thought i would like it but when  i received it and tried one i was very disappointed it was the green tea and not sweet at all the flavor was nothing at all like an iced tea like i was expecting i had to add sugar to it to get a flavor that i like to be similar to regular iced tea i dont even know if ill be using the others i had received sorry about this but you did ask for my review on this   \n",
       "113655                                                                                                                                                                                                                                                                                                                                                                                                                                                                                                                                                                                                                                                                                                                                                                                                                             if you love coconut then this is for you  as a bona fide coconut i can tell you this product is deliciouscrispy and lightly sweet wide flakes  the drawbacks are that the bag contains a pretty small amount and the pieces are brittle and break  that being said the coconut is great for snacking or garnishing dessertsbaked goods   \n",
       "113659                                                                                                                                                                                                                                                                                                                                                                                                                                                                                                                                                                                                                                                                                                                                                                                                                                                                                                                                                                                                                            i love this product  the only suggestion i could make to improve it would be to allow the customer to select the combination of flavors   \n",
       "113680                                                                                                                                                                                                                                                                                                                                                                                                                                                                                                                                                                                                                                                                                                                                                                                                                                                                                                                                                                                     if you are looking for something natural to relieve and possible stop hot flashessage tea will do it a glass in the morning and one at night and wow what a difference it made   \n",
       "113689                                                                                                                                                                                                                                                                                                                                                                                                                                                                                                                                                                                                                                                                                                                                                                                                                                                                                                                                                                                                                                        i use these as a training treat when walking and my dog loves all the flavors  i like that they are made in usa and natural   \n",
       "\n",
       "        Sentiment  \\\n",
       "0               1   \n",
       "6               1   \n",
       "19              1   \n",
       "20              1   \n",
       "26              1   \n",
       "...           ...   \n",
       "113652          0   \n",
       "113655          1   \n",
       "113659          1   \n",
       "113680          1   \n",
       "113689          1   \n",
       "\n",
       "                                                                                                                                                                                                                                                                                                                                                                                                                                                                                                                                                                                                                                                                                                                                                                                                                                                              reviews_text  \n",
       "0                                                                                                                                                                                                                                                                                                                                                                                                                                                                                                                                                                                                                                                                                                                                                                                      love chips always make great healthy snack im stuck work vending machine sustenance  \n",
       "6       prepared visitors decadent aroma chocolate raspberry truffle imbues kitchen office brew light roast van houtte brewed couple cups office cubicle rich aroma carried office air vents attracting droopyeyed coworkers search chocolatedelicate flavored coffee blend made delicious afternoon treat amazingly artificial flavoring doesnt leave strong chemical aftertaste smell rich chocolate raspberries lingers last sip giving impression team chocolatiers departed honestly heady stuffwe tested enjoyed van houtte chocolate raspberry truffle keurigs small cup oz small mug oz settings according van houtte website size makes ideal cup coffee vary cup size want change coffees strength example choose larger cup size get less intense cup coffeeif concerned freshness box cups came expiration date july six months purchase daterating five stars  \n",
       "19                                                                                                                                                                                                                                                                                                                                                                                                                                                                                                                                                                                                                                                                                   since got keurigwe trying different flavors brands coffeeteahot chocolateand cider coffee brands say green mountain far surpasses brands tried great taste not expensive hurts budget  \n",
       "20                                                                                                                                                                                                                                                                                                                                                                                                                                                                                                                                                                                                                                                                                                                                                   bought sample pack today jamaica crazy love flavor flavor not powerful overwhelming id recommend wolf gang puck kcups  \n",
       "26                                                                                                                                                                                                                                                                         cat picky especially comes dry food happily go days refusing eat anything push kibble doesnt like damn torties switched cat friskies hills scienc diet grew adulthood decided try one natural diets no fillers uses real meats blah blah blah one wouldnt go near would eat reluctantly except super active petite tortie grew ten pounds waddled walked horribly obese slept hours day waking eat coat staritng ot lose shine scared hell switched back hills week starting show interest toys already starting lose swaying flabby fat belly shes back active healthy happy never switch food  \n",
       "...                                                                                                                                                                                                                                                                                                                                                                                                                                                                                                                                                                                                                                                                                                                                                                                                                                                                    ...  \n",
       "113652                                                                                                                                                                                                                                                                                                                                                                                                                                                                                                                                                                                                    saw mint iced tea powder website thought would like received tried one disappointed green tea not sweet flavor nothing like iced tea like expecting add sugar get flavor like similar regular iced tea dont even know ill using others received sorry ask review  \n",
       "113655                                                                                                                                                                                                                                                                                                                                                                                                                                                                                                                                                                                                                                                    love coconut bona fide coconut tell product deliciouscrispy lightly sweet wide flakes drawbacks bag contains pretty small amount pieces brittle break said coconut great snacking garnishing dessertsbaked goods  \n",
       "113659                                                                                                                                                                                                                                                                                                                                                                                                                                                                                                                                                                                                                                                                                                                                                                          love product suggestion could make improve would allow customer select combination flavors  \n",
       "113680                                                                                                                                                                                                                                                                                                                                                                                                                                                                                                                                                                                                                                                                                                                                                     looking something natural relieve possible stop hot flashessage tea glass morning one night wow difference made  \n",
       "113689                                                                                                                                                                                                                                                                                                                                                                                                                                                                                                                                                                                                                                                                                                                                                                                                  use training treat walking dog loves flavors like made usa natural  \n",
       "\n",
       "[24187 rows x 3 columns]"
      ]
     },
     "execution_count": 31,
     "metadata": {},
     "output_type": "execute_result"
    }
   ],
   "source": [
    "df[df.duplicated(keep=False)]\n"
   ]
  },
  {
   "cell_type": "code",
   "execution_count": 32,
   "metadata": {},
   "outputs": [
    {
     "data": {
      "text/plain": [
       "(90734, 3)"
      ]
     },
     "execution_count": 32,
     "metadata": {},
     "output_type": "execute_result"
    }
   ],
   "source": [
    "df.drop_duplicates(inplace=True)\n",
    "df.shape"
   ]
  },
  {
   "cell_type": "markdown",
   "metadata": {},
   "source": [
    "## Number of non-english words"
   ]
  },
  {
   "cell_type": "code",
   "execution_count": 33,
   "metadata": {},
   "outputs": [
    {
     "data": {
      "text/plain": [
       "174345"
      ]
     },
     "execution_count": 33,
     "metadata": {},
     "output_type": "execute_result"
    }
   ],
   "source": [
    "from nltk.stem.snowball import SnowballStemmer\n",
    "en_words=set(words.words())\n",
    "stemmer=SnowballStemmer('english')\n",
    "stem_words=set([stemmer.stem(k) for k in en_words])\n",
    "len(stem_words)"
   ]
  },
  {
   "cell_type": "code",
   "execution_count": 34,
   "metadata": {},
   "outputs": [],
   "source": [
    "def nonen_catch(text, en_stemmer=stemmer, stem_en=stem_words):\n",
    "    nonen_list=[k for k in word_tokenize(text) if en_stemmer.stem(k) not in stem_en]\n",
    "    return nonen_list"
   ]
  },
  {
   "cell_type": "code",
   "execution_count": 35,
   "metadata": {},
   "outputs": [],
   "source": [
    "df['nonen']=df['reviews_text'].apply(nonen_catch)"
   ]
  },
  {
   "cell_type": "code",
   "execution_count": 36,
   "metadata": {},
   "outputs": [
    {
     "data": {
      "text/plain": [
       "<AxesSubplot:>"
      ]
     },
     "execution_count": 36,
     "metadata": {},
     "output_type": "execute_result"
    },
    {
     "data": {
      "image/png": "[encoded data removed]",
      "text/plain": [
       "<Figure size 432x288 with 1 Axes>"
      ]
     },
     "metadata": {},
     "output_type": "display_data"
    }
   ],
   "source": [
    "df['nonen_prop']=df.apply(lambda row: len(set(row['nonen']))/len(set(row['reviews_text'].split())), axis=1)\n",
    "df['nonen_prop'].hist()"
   ]
  },
  {
   "cell_type": "code",
   "execution_count": 37,
   "metadata": {},
   "outputs": [
    {
     "data": {
      "text/html": [
       "<div>\n",
       "<style scoped>\n",
       "    .dataframe tbody tr th:only-of-type {\n",
       "        vertical-align: middle;\n",
       "    }\n",
       "\n",
       "    .dataframe tbody tr th {\n",
       "        vertical-align: top;\n",
       "    }\n",
       "\n",
       "    .dataframe thead th {\n",
       "        text-align: right;\n",
       "    }\n",
       "</style>\n",
       "<table border=\"1\" class=\"dataframe\">\n",
       "  <thead>\n",
       "    <tr style=\"text-align: right;\">\n",
       "      <th></th>\n",
       "      <th>Review</th>\n",
       "      <th>Sentiment</th>\n",
       "      <th>reviews_text</th>\n",
       "      <th>nonen</th>\n",
       "      <th>nonen_prop</th>\n",
       "    </tr>\n",
       "  </thead>\n",
       "  <tbody>\n",
       "    <tr>\n",
       "      <th>10273</th>\n",
       "      <td>me dieron dos cajas cuando nacioacute mi hija y yo simplemente no confiaba mucho en el tema pero es absolutamente maravilloso de efecto raacutepido mucho maacutes que el motilium y son de gran eficienciamuy recomendado para quieacuten necesite producir maacutes leche</td>\n",
       "      <td>1</td>\n",
       "      <td>dieron dos cajas cuando nacioacute mi hija yo simplemente no confiaba mucho en el tema pero es absolutamente maravilloso de efecto raacutepido mucho maacutes que el motilium son de gran eficienciamuy recomendado para quieacuten necesite producir maacutes leche</td>\n",
       "      <td>[dieron, cajas, cuando, nacioacute, hija, simplemente, confiaba, mucho, pero, absolutamente, maravilloso, efecto, raacutepido, mucho, maacutes, que, motilium, gran, eficienciamuy, recomendado, quieacuten, necesite, producir, maacutes]</td>\n",
       "      <td>0.647059</td>\n",
       "    </tr>\n",
       "    <tr>\n",
       "      <th>15753</th>\n",
       "      <td>este condimento te saca de apuros y es muy bueno porque realmente es ajo deshidratado no es polvo las alitas de pollo con esto y salsa barbacue quedan excelentes igual que el pollo a la parrilla</td>\n",
       "      <td>1</td>\n",
       "      <td>este condimento te saca de apuros es muy bueno porque realmente es ajo deshidratado no es polvo las alitas de pollo con esto salsa barbacue quedan excelentes igual que el pollo la parrilla</td>\n",
       "      <td>[este, condimento, apuros, muy, bueno, porque, realmente, ajo, deshidratado, polvo, alitas, pollo, esto, salsa, barbacue, quedan, igual, que, pollo, parrilla]</td>\n",
       "      <td>0.655172</td>\n",
       "    </tr>\n",
       "    <tr>\n",
       "      <th>16448</th>\n",
       "      <td>we like plockysthey like usplockys plockysmean no fusstaste so goodand healthy tooplockys plockysgrab a bag or twothank you plockys</td>\n",
       "      <td>1</td>\n",
       "      <td>like plockysthey like usplockys plockysmean no fusstaste goodand healthy tooplockys plockysgrab bag twothank plockys</td>\n",
       "      <td>[plockysthey, usplockys, plockysmean, fusstaste, goodand, tooplockys, plockysgrab, twothank, plockys]</td>\n",
       "      <td>0.692308</td>\n",
       "    </tr>\n",
       "    <tr>\n",
       "      <th>16622</th>\n",
       "      <td>schultz all purpose cibi vegetariani piugrave   fl oz  un ottimo prodotto per nutrire con equilibrio le piante in vasola crescita delle piante egrave piugrave velocele foglie saranno di un bellissimo verdela pianta risulteragrave piugrave sana</td>\n",
       "      <td>1</td>\n",
       "      <td>schultz purpose cibi vegetariani piugrave fl oz un ottimo prodotto per nutrire con equilibrio le piante vasola crescita delle piante egrave piugrave velocele foglie saranno di un bellissimo verdela pianta risulteragrave piugrave sana</td>\n",
       "      <td>[schultz, cibi, vegetariani, piugrave, fl, oz, ottimo, prodotto, nutrire, le, piante, vasola, crescita, piante, egrave, piugrave, velocele, foglie, saranno, bellissimo, verdela, pianta, risulteragrave, piugrave, sana]</td>\n",
       "      <td>0.758621</td>\n",
       "    </tr>\n",
       "    <tr>\n",
       "      <th>33998</th>\n",
       "      <td>sehr gutes produkt sehr gute ware und scnelle lieferung wie immer uumlber amazoncom alles bestens und gerne wieder danke dafuumlr</td>\n",
       "      <td>1</td>\n",
       "      <td>sehr gutes produkt sehr gute ware und scnelle lieferung wie immer uumlber amazoncom alles bestens und gerne wieder danke dafuumlr</td>\n",
       "      <td>[sehr, gutes, produkt, sehr, gute, scnelle, lieferung, wie, immer, uumlber, amazoncom, bestens, gerne, wieder, dafuumlr]</td>\n",
       "      <td>0.777778</td>\n",
       "    </tr>\n",
       "    <tr>\n",
       "      <th>36801</th>\n",
       "      <td>delicious and nutritious delicius nd nutritius delicous an nutritous delcious ad nutrtious dlicious n nutrious dellicious anld nutritilous deliciouss ands nutritiouss</td>\n",
       "      <td>1</td>\n",
       "      <td>delicious nutritious delicius nd nutritius delicous nutritous delcious ad nutrtious dlicious n nutrious dellicious anld nutritilous deliciouss ands nutritiouss</td>\n",
       "      <td>[delicius, nd, nutritius, delcious, nutrtious, dlicious, nutrious, dellicious, anld, nutritilous, deliciouss, nutritiouss]</td>\n",
       "      <td>0.631579</td>\n",
       "    </tr>\n",
       "    <tr>\n",
       "      <th>43815</th>\n",
       "      <td>first you take the peanutsand you crunch emyou crunch emfirst you take the peanutsand you crunch emyou crunch emfor your peanut peanut butterand jellypeanut peanut butterand jellythen you take the grapesand you squish emyou squish emthen you take the grapesand you squish emyou squish emfor your peanut peanut butterand jellypeanut peanut butterand jellythen you take the breadand you spread ityou spread itthen you take the breadand you spread ityou spread itfor your peanut peanut butterand jellypeanut peanut butterand jellythen you take your sandwichand you eat ityou eat itthen you take your sandwichand you eat ityou eat itcause its good peanut butterand jellygood peanut butterand jellyfirst you take the peanutsand you crunch emthen you take the grapesand you squish emthen you take the breadand you spread itthen you take your sandwichand you eat itcause its good peanut butterand jellygood peanut butterand jelly</td>\n",
       "      <td>1</td>\n",
       "      <td>first take peanutsand crunch emyou crunch emfirst take peanutsand crunch emyou crunch emfor peanut peanut butterand jellypeanut peanut butterand jellythen take grapesand squish emyou squish emthen take grapesand squish emyou squish emfor peanut peanut butterand jellypeanut peanut butterand jellythen take breadand spread ityou spread itthen take breadand spread ityou spread itfor peanut peanut butterand jellypeanut peanut butterand jellythen take sandwichand eat ityou eat itthen take sandwichand eat ityou eat itcause good peanut butterand jellygood peanut butterand jellyfirst take peanutsand crunch emthen take grapesand squish emthen take breadand spread itthen take sandwichand eat itcause good peanut butterand jellygood peanut butterand jelly</td>\n",
       "      <td>[peanutsand, emyou, emfirst, peanutsand, emyou, emfor, butterand, jellypeanut, butterand, jellythen, grapesand, emyou, emthen, grapesand, emyou, emfor, butterand, jellypeanut, butterand, jellythen, breadand, ityou, itthen, breadand, ityou, itfor, butterand, jellypeanut, butterand, jellythen, sandwichand, ityou, itthen, sandwichand, ityou, itcause, butterand, jellygood, butterand, jellyfirst, peanutsand, emthen, grapesand, emthen, breadand, itthen, sandwichand, itcause, butterand, jellygood, butterand]</td>\n",
       "      <td>0.653846</td>\n",
       "    </tr>\n",
       "    <tr>\n",
       "      <th>43959</th>\n",
       "      <td>ma se non conoscete crema e gusto siete proprio un branco di froci scatenati e succhiacazzi a volontagrave il crema e gusto egrave crema e gusto e cazzo se ogni momento egrave quello giusto</td>\n",
       "      <td>1</td>\n",
       "      <td>se non conoscete crema e gusto siete proprio un branco di froci scatenati e succhiacazzi volontagrave il crema e gusto egrave crema e gusto e cazzo se ogni momento egrave quello giusto</td>\n",
       "      <td>[conoscete, crema, siete, proprio, branco, froci, scatenati, succhiacazzi, volontagrave, il, crema, egrave, crema, cazzo, ogni, momento, egrave, quello, giusto]</td>\n",
       "      <td>0.727273</td>\n",
       "    </tr>\n",
       "    <tr>\n",
       "      <th>47798</th>\n",
       "      <td>lo mejor que he usado hasta el dia de hoyy he probado mas de  marcas diferenteslo recomiendofunciona perfectamentehidrata increiblementelo use para  millas de ciclismo de montantildea</td>\n",
       "      <td>1</td>\n",
       "      <td>lo mejor que usado hasta el dia de hoyy probado mas de marcas diferenteslo recomiendofunciona perfectamentehidrata increiblementelo use para millas de ciclismo de montantildea</td>\n",
       "      <td>[mejor, que, usado, dia, hoyy, probado, marcas, diferenteslo, recomiendofunciona, perfectamentehidrata, increiblementelo, ciclismo, montantildea]</td>\n",
       "      <td>0.619048</td>\n",
       "    </tr>\n",
       "    <tr>\n",
       "      <th>60210</th>\n",
       "      <td>if you want some spice in your cocido or fabada then this authentic chorizo picante from spain is for you</td>\n",
       "      <td>1</td>\n",
       "      <td>want spice cocido fabada authentic chorizo picante spain</td>\n",
       "      <td>[cocido, fabada, chorizo, picante, spain]</td>\n",
       "      <td>0.625000</td>\n",
       "    </tr>\n",
       "    <tr>\n",
       "      <th>63263</th>\n",
       "      <td>es un producto que sirve para perros mayores son faacuteciles de masticar buen tamantildeo para perros medianos y no causan molestias estomacales como otro tipo de galletas mi perro las adora</td>\n",
       "      <td>1</td>\n",
       "      <td>es un producto que sirve para perros mayores son faacuteciles de masticar buen tamantildeo para perros medianos no causan molestias estomacales como otro tipo de galletas mi perro las adora</td>\n",
       "      <td>[producto, que, sirve, perros, faacuteciles, masticar, buen, tamantildeo, perros, medianos, causan, molestias, estomacales, como, otro, tipo, galletas, perro, adora]</td>\n",
       "      <td>0.666667</td>\n",
       "    </tr>\n",
       "    <tr>\n",
       "      <th>69424</th>\n",
       "      <td>d s h jnrgisdxc f j h xd d jn sd j g z  f j hg  xzz d d fg f g g h jk l l  iyt r wq s gv  hjk j g  fg g</td>\n",
       "      <td>1</td>\n",
       "      <td>h jnrgisdxc f j h xd jn sd j g z f j hg xzz fg f g g h jk l l iyt r wq gv hjk j g fg g</td>\n",
       "      <td>[jnrgisdxc, xd, jn, sd, hg, xzz, fg, jk, iyt, wq, gv, hjk, fg]</td>\n",
       "      <td>0.631579</td>\n",
       "    </tr>\n",
       "    <tr>\n",
       "      <th>74840</th>\n",
       "      <td>soy chocoadicta dicho esto debo decir que nunca penseacute que otro producto pudiera desbancar mi predileccioacuten por los chocolates con menta como peppermint york o after eightno saben de lo que se pierden hasta que lo prueben</td>\n",
       "      <td>1</td>\n",
       "      <td>soy chocoadicta dicho esto debo decir que nunca penseacute que otro producto pudiera desbancar mi predileccioacuten por los chocolates con menta como peppermint york eightno saben de lo que se pierden hasta que lo prueben</td>\n",
       "      <td>[chocoadicta, dicho, esto, debo, decir, que, nunca, penseacute, que, otro, producto, pudiera, desbancar, predileccioacuten, por, los, menta, como, eightno, saben, que, pierden, que, prueben]</td>\n",
       "      <td>0.677419</td>\n",
       "    </tr>\n",
       "    <tr>\n",
       "      <th>76669</th>\n",
       "      <td>el envio de los dulces fue muy rapido de verdad que estos dulces son deliciosossssss</td>\n",
       "      <td>1</td>\n",
       "      <td>el envio de los dulces fue muy rapido de verdad que estos dulces son deliciosossssss</td>\n",
       "      <td>[envio, los, dulces, fue, muy, rapido, verdad, que, estos, dulces, deliciosossssss]</td>\n",
       "      <td>0.769231</td>\n",
       "    </tr>\n",
       "    <tr>\n",
       "      <th>76734</th>\n",
       "      <td>lo compreacute como regalo para mi familia en usa me dicen que estaacute muy bueno sabe a jamoacuten navidentildeocesar marchegianivenezuela</td>\n",
       "      <td>1</td>\n",
       "      <td>lo compreacute como regalo para mi familia en usa dicen que estaacute muy bueno sabe jamoacuten navidentildeocesar marchegianivenezuela</td>\n",
       "      <td>[compreacute, como, regalo, usa, dicen, que, estaacute, muy, bueno, jamoacuten, navidentildeocesar, marchegianivenezuela]</td>\n",
       "      <td>0.666667</td>\n",
       "    </tr>\n",
       "    <tr>\n",
       "      <th>82214</th>\n",
       "      <td>mummumda dadada dada mamamum mumum ummumumkittynum mum num num nom nom nomdoodoudoou dadoudou dado udoummm mumum</td>\n",
       "      <td>1</td>\n",
       "      <td>mummumda dadada dada mamamum mumum ummumumkittynum mum num num nom nom nomdoodoudoou dadoudou dado udoummm mumum</td>\n",
       "      <td>[mummumda, dadada, mamamum, mumum, ummumumkittynum, num, num, nom, nom, nomdoodoudoou, dadoudou, udoummm, mumum]</td>\n",
       "      <td>0.769231</td>\n",
       "    </tr>\n",
       "    <tr>\n",
       "      <th>85604</th>\n",
       "      <td>nuevo comentariolo volvi a comprar yl vuelvo a probar es maravilloso distinto que todos perdon yo tenia el sabor de la porquereia de starbucksen el paladarel dia que lo compres te gusta starbuck no pruebes esto</td>\n",
       "      <td>1</td>\n",
       "      <td>nuevo comentariolo volvi comprar yl vuelvo probar es maravilloso distinto que todos perdon yo tenia el sabor de la porquereia de starbucksen el paladarel dia que lo compres te gusta starbuck no pruebes esto</td>\n",
       "      <td>[nuevo, comentariolo, volvi, comprar, yl, vuelvo, probar, maravilloso, distinto, que, todos, perdon, tenia, sabor, porquereia, starbucksen, paladarel, dia, que, compres, gusta, pruebes, esto]</td>\n",
       "      <td>0.709677</td>\n",
       "    </tr>\n",
       "    <tr>\n",
       "      <th>107158</th>\n",
       "      <td>simply perfectshipped immediatelyarrived quicklyplants are larger than i expected and very healthywell packed for shipmentarrived safelytwo thumbs up  im happyjim</td>\n",
       "      <td>1</td>\n",
       "      <td>simply perfectshipped immediatelyarrived quicklyplants larger expected healthywell packed shipmentarrived safelytwo thumbs im happyjim</td>\n",
       "      <td>[perfectshipped, immediatelyarrived, quicklyplants, larger, healthywell, shipmentarrived, safelytwo, im, happyjim]</td>\n",
       "      <td>0.692308</td>\n",
       "    </tr>\n",
       "    <tr>\n",
       "      <th>109463</th>\n",
       "      <td>javais deacutejagrave eu une machine seaco deluxe comme cellelagrave  la machine est pareil mais elle est beaucoup plus silencieuse et rapide pour le lait  excellent cafeacute</td>\n",
       "      <td>1</td>\n",
       "      <td>javais deacutejagrave eu une machine seaco deluxe comme cellelagrave la machine est pareil mais elle est beaucoup plus silencieuse et rapide pour le lait excellent cafeacute</td>\n",
       "      <td>[javais, deacutejagrave, une, seaco, comme, cellelagrave, est, pareil, mais, est, beaucoup, silencieuse, et, le, lait, cafeacute]</td>\n",
       "      <td>0.625000</td>\n",
       "    </tr>\n",
       "  </tbody>\n",
       "</table>\n",
       "</div>"
      ],
      "text/plain": [
       "                                                                                                                                                                                                                                                                                                                                                                                                                                                                                                                                                                                                                                                                                                                                                                                                                                                                                                                                                            Review  \\\n",
       "10273                                                                                                                                                                                                                                                                                                                                                                                                                                                                                                                                                                                                                                                                                  me dieron dos cajas cuando nacioacute mi hija y yo simplemente no confiaba mucho en el tema pero es absolutamente maravilloso de efecto raacutepido mucho maacutes que el motilium y son de gran eficienciamuy recomendado para quieacuten necesite producir maacutes leche   \n",
       "15753                                                                                                                                                                                                                                                                                                                                                                                                                                                                                                                                                                                                                                                                                                                                                           este condimento te saca de apuros y es muy bueno porque realmente es ajo deshidratado no es polvo las alitas de pollo con esto y salsa barbacue quedan excelentes igual que el pollo a la parrilla   \n",
       "16448                                                                                                                                                                                                                                                                                                                                                                                                                                                                                                                                                                                                                                                                                                                                                                                                                          we like plockysthey like usplockys plockysmean no fusstaste so goodand healthy tooplockys plockysgrab a bag or twothank you plockys   \n",
       "16622                                                                                                                                                                                                                                                                                                                                                                                                                                                                                                                                                                                                                                                                                                          schultz all purpose cibi vegetariani piugrave   fl oz  un ottimo prodotto per nutrire con equilibrio le piante in vasola crescita delle piante egrave piugrave velocele foglie saranno di un bellissimo verdela pianta risulteragrave piugrave sana   \n",
       "33998                                                                                                                                                                                                                                                                                                                                                                                                                                                                                                                                                                                                                                                                                                                                                                                                                            sehr gutes produkt sehr gute ware und scnelle lieferung wie immer uumlber amazoncom alles bestens und gerne wieder danke dafuumlr   \n",
       "36801                                                                                                                                                                                                                                                                                                                                                                                                                                                                                                                                                                                                                                                                                                                                                                                       delicious and nutritious delicius nd nutritius delicous an nutritous delcious ad nutrtious dlicious n nutrious dellicious anld nutritilous deliciouss ands nutritiouss   \n",
       "43815   first you take the peanutsand you crunch emyou crunch emfirst you take the peanutsand you crunch emyou crunch emfor your peanut peanut butterand jellypeanut peanut butterand jellythen you take the grapesand you squish emyou squish emthen you take the grapesand you squish emyou squish emfor your peanut peanut butterand jellypeanut peanut butterand jellythen you take the breadand you spread ityou spread itthen you take the breadand you spread ityou spread itfor your peanut peanut butterand jellypeanut peanut butterand jellythen you take your sandwichand you eat ityou eat itthen you take your sandwichand you eat ityou eat itcause its good peanut butterand jellygood peanut butterand jellyfirst you take the peanutsand you crunch emthen you take the grapesand you squish emthen you take the breadand you spread itthen you take your sandwichand you eat itcause its good peanut butterand jellygood peanut butterand jelly   \n",
       "43959                                                                                                                                                                                                                                                                                                                                                                                                                                                                                                                                                                                                                                                                                                                                                                ma se non conoscete crema e gusto siete proprio un branco di froci scatenati e succhiacazzi a volontagrave il crema e gusto egrave crema e gusto e cazzo se ogni momento egrave quello giusto   \n",
       "47798                                                                                                                                                                                                                                                                                                                                                                                                                                                                                                                                                                                                                                                                                                                                                                      lo mejor que he usado hasta el dia de hoyy he probado mas de  marcas diferenteslo recomiendofunciona perfectamentehidrata increiblementelo use para  millas de ciclismo de montantildea   \n",
       "60210                                                                                                                                                                                                                                                                                                                                                                                                                                                                                                                                                                                                                                                                                                                                                                                                                                                    if you want some spice in your cocido or fabada then this authentic chorizo picante from spain is for you   \n",
       "63263                                                                                                                                                                                                                                                                                                                                                                                                                                                                                                                                                                                                                                                                                                                                                              es un producto que sirve para perros mayores son faacuteciles de masticar buen tamantildeo para perros medianos y no causan molestias estomacales como otro tipo de galletas mi perro las adora   \n",
       "69424                                                                                                                                                                                                                                                                                                                                                                                                                                                                                                                                                                                                                                                                                                                                                                                                                                                      d s h jnrgisdxc f j h xd d jn sd j g z  f j hg  xzz d d fg f g g h jk l l  iyt r wq s gv  hjk j g  fg g   \n",
       "74840                                                                                                                                                                                                                                                                                                                                                                                                                                                                                                                                                                                                                                                                                                                        soy chocoadicta dicho esto debo decir que nunca penseacute que otro producto pudiera desbancar mi predileccioacuten por los chocolates con menta como peppermint york o after eightno saben de lo que se pierden hasta que lo prueben   \n",
       "76669                                                                                                                                                                                                                                                                                                                                                                                                                                                                                                                                                                                                                                                                                                                                                                                                                                                                         el envio de los dulces fue muy rapido de verdad que estos dulces son deliciosossssss   \n",
       "76734                                                                                                                                                                                                                                                                                                                                                                                                                                                                                                                                                                                                                                                                                                                                                                                                                 lo compreacute como regalo para mi familia en usa me dicen que estaacute muy bueno sabe a jamoacuten navidentildeocesar marchegianivenezuela   \n",
       "82214                                                                                                                                                                                                                                                                                                                                                                                                                                                                                                                                                                                                                                                                                                                                                                                                                                             mummumda dadada dada mamamum mumum ummumumkittynum mum num num nom nom nomdoodoudoou dadoudou dado udoummm mumum   \n",
       "85604                                                                                                                                                                                                                                                                                                                                                                                                                                                                                                                                                                                                                                                                                                                                           nuevo comentariolo volvi a comprar yl vuelvo a probar es maravilloso distinto que todos perdon yo tenia el sabor de la porquereia de starbucksen el paladarel dia que lo compres te gusta starbuck no pruebes esto   \n",
       "107158                                                                                                                                                                                                                                                                                                                                                                                                                                                                                                                                                                                                                                                                                                                                                                                          simply perfectshipped immediatelyarrived quicklyplants are larger than i expected and very healthywell packed for shipmentarrived safelytwo thumbs up  im happyjim   \n",
       "109463                                                                                                                                                                                                                                                                                                                                                                                                                                                                                                                                                                                                                                                                                                                                                                             javais deacutejagrave eu une machine seaco deluxe comme cellelagrave  la machine est pareil mais elle est beaucoup plus silencieuse et rapide pour le lait  excellent cafeacute   \n",
       "\n",
       "        Sentiment  \\\n",
       "10273           1   \n",
       "15753           1   \n",
       "16448           1   \n",
       "16622           1   \n",
       "33998           1   \n",
       "36801           1   \n",
       "43815           1   \n",
       "43959           1   \n",
       "47798           1   \n",
       "60210           1   \n",
       "63263           1   \n",
       "69424           1   \n",
       "74840           1   \n",
       "76669           1   \n",
       "76734           1   \n",
       "82214           1   \n",
       "85604           1   \n",
       "107158          1   \n",
       "109463          1   \n",
       "\n",
       "                                                                                                                                                                                                                                                                                                                                                                                                                                                                                                                                                                                                                                                                                                                                                                            reviews_text  \\\n",
       "10273                                                                                                                                                                                                                                                                                                                                                                                                                                                                                                               dieron dos cajas cuando nacioacute mi hija yo simplemente no confiaba mucho en el tema pero es absolutamente maravilloso de efecto raacutepido mucho maacutes que el motilium son de gran eficienciamuy recomendado para quieacuten necesite producir maacutes leche   \n",
       "15753                                                                                                                                                                                                                                                                                                                                                                                                                                                                                                                                                                                       este condimento te saca de apuros es muy bueno porque realmente es ajo deshidratado no es polvo las alitas de pollo con esto salsa barbacue quedan excelentes igual que el pollo la parrilla   \n",
       "16448                                                                                                                                                                                                                                                                                                                                                                                                                                                                                                                                                                                                                                                               like plockysthey like usplockys plockysmean no fusstaste goodand healthy tooplockys plockysgrab bag twothank plockys   \n",
       "16622                                                                                                                                                                                                                                                                                                                                                                                                                                                                                                                                          schultz purpose cibi vegetariani piugrave fl oz un ottimo prodotto per nutrire con equilibrio le piante vasola crescita delle piante egrave piugrave velocele foglie saranno di un bellissimo verdela pianta risulteragrave piugrave sana   \n",
       "33998                                                                                                                                                                                                                                                                                                                                                                                                                                                                                                                                                                                                                                                  sehr gutes produkt sehr gute ware und scnelle lieferung wie immer uumlber amazoncom alles bestens und gerne wieder danke dafuumlr   \n",
       "36801                                                                                                                                                                                                                                                                                                                                                                                                                                                                                                                                                                                                                    delicious nutritious delicius nd nutritius delicous nutritous delcious ad nutrtious dlicious n nutrious dellicious anld nutritilous deliciouss ands nutritiouss   \n",
       "43815   first take peanutsand crunch emyou crunch emfirst take peanutsand crunch emyou crunch emfor peanut peanut butterand jellypeanut peanut butterand jellythen take grapesand squish emyou squish emthen take grapesand squish emyou squish emfor peanut peanut butterand jellypeanut peanut butterand jellythen take breadand spread ityou spread itthen take breadand spread ityou spread itfor peanut peanut butterand jellypeanut peanut butterand jellythen take sandwichand eat ityou eat itthen take sandwichand eat ityou eat itcause good peanut butterand jellygood peanut butterand jellyfirst take peanutsand crunch emthen take grapesand squish emthen take breadand spread itthen take sandwichand eat itcause good peanut butterand jellygood peanut butterand jelly   \n",
       "43959                                                                                                                                                                                                                                                                                                                                                                                                                                                                                                                                                                                           se non conoscete crema e gusto siete proprio un branco di froci scatenati e succhiacazzi volontagrave il crema e gusto egrave crema e gusto e cazzo se ogni momento egrave quello giusto   \n",
       "47798                                                                                                                                                                                                                                                                                                                                                                                                                                                                                                                                                                                                    lo mejor que usado hasta el dia de hoyy probado mas de marcas diferenteslo recomiendofunciona perfectamentehidrata increiblementelo use para millas de ciclismo de montantildea   \n",
       "60210                                                                                                                                                                                                                                                                                                                                                                                                                                                                                                                                                                                                                                                                                                                           want spice cocido fabada authentic chorizo picante spain   \n",
       "63263                                                                                                                                                                                                                                                                                                                                                                                                                                                                                                                                                                                      es un producto que sirve para perros mayores son faacuteciles de masticar buen tamantildeo para perros medianos no causan molestias estomacales como otro tipo de galletas mi perro las adora   \n",
       "69424                                                                                                                                                                                                                                                                                                                                                                                                                                                                                                                                                                                                                                                                                             h jnrgisdxc f j h xd jn sd j g z f j hg xzz fg f g g h jk l l iyt r wq gv hjk j g fg g   \n",
       "74840                                                                                                                                                                                                                                                                                                                                                                                                                                                                                                                                                      soy chocoadicta dicho esto debo decir que nunca penseacute que otro producto pudiera desbancar mi predileccioacuten por los chocolates con menta como peppermint york eightno saben de lo que se pierden hasta que lo prueben   \n",
       "76669                                                                                                                                                                                                                                                                                                                                                                                                                                                                                                                                                                                                                                                                                               el envio de los dulces fue muy rapido de verdad que estos dulces son deliciosossssss   \n",
       "76734                                                                                                                                                                                                                                                                                                                                                                                                                                                                                                                                                                                                                                            lo compreacute como regalo para mi familia en usa dicen que estaacute muy bueno sabe jamoacuten navidentildeocesar marchegianivenezuela   \n",
       "82214                                                                                                                                                                                                                                                                                                                                                                                                                                                                                                                                                                                                                                                                   mummumda dadada dada mamamum mumum ummumumkittynum mum num num nom nom nomdoodoudoou dadoudou dado udoummm mumum   \n",
       "85604                                                                                                                                                                                                                                                                                                                                                                                                                                                                                                                                                                     nuevo comentariolo volvi comprar yl vuelvo probar es maravilloso distinto que todos perdon yo tenia el sabor de la porquereia de starbucksen el paladarel dia que lo compres te gusta starbuck no pruebes esto   \n",
       "107158                                                                                                                                                                                                                                                                                                                                                                                                                                                                                                                                                                                                                                            simply perfectshipped immediatelyarrived quicklyplants larger expected healthywell packed shipmentarrived safelytwo thumbs im happyjim   \n",
       "109463                                                                                                                                                                                                                                                                                                                                                                                                                                                                                                                                                                                                     javais deacutejagrave eu une machine seaco deluxe comme cellelagrave la machine est pareil mais elle est beaucoup plus silencieuse et rapide pour le lait excellent cafeacute   \n",
       "\n",
       "                                                                                                                                                                                                                                                                                                                                                                                                                                                                                                                             nonen  \\\n",
       "10273                                                                                                                                                                                                                                                                                   [dieron, cajas, cuando, nacioacute, hija, simplemente, confiaba, mucho, pero, absolutamente, maravilloso, efecto, raacutepido, mucho, maacutes, que, motilium, gran, eficienciamuy, recomendado, quieacuten, necesite, producir, maacutes]   \n",
       "15753                                                                                                                                                                                                                                                                                                                                                               [este, condimento, apuros, muy, bueno, porque, realmente, ajo, deshidratado, polvo, alitas, pollo, esto, salsa, barbacue, quedan, igual, que, pollo, parrilla]   \n",
       "16448                                                                                                                                                                                                                                                                                                                                                                                                                        [plockysthey, usplockys, plockysmean, fusstaste, goodand, tooplockys, plockysgrab, twothank, plockys]   \n",
       "16622                                                                                                                                                                                                                                                                                                    [schultz, cibi, vegetariani, piugrave, fl, oz, ottimo, prodotto, nutrire, le, piante, vasola, crescita, piante, egrave, piugrave, velocele, foglie, saranno, bellissimo, verdela, pianta, risulteragrave, piugrave, sana]   \n",
       "33998                                                                                                                                                                                                                                                                                                                                                                                                     [sehr, gutes, produkt, sehr, gute, scnelle, lieferung, wie, immer, uumlber, amazoncom, bestens, gerne, wieder, dafuumlr]   \n",
       "36801                                                                                                                                                                                                                                                                                                                                                                                                   [delicius, nd, nutritius, delcious, nutrtious, dlicious, nutrious, dellicious, anld, nutritilous, deliciouss, nutritiouss]   \n",
       "43815   [peanutsand, emyou, emfirst, peanutsand, emyou, emfor, butterand, jellypeanut, butterand, jellythen, grapesand, emyou, emthen, grapesand, emyou, emfor, butterand, jellypeanut, butterand, jellythen, breadand, ityou, itthen, breadand, ityou, itfor, butterand, jellypeanut, butterand, jellythen, sandwichand, ityou, itthen, sandwichand, ityou, itcause, butterand, jellygood, butterand, jellyfirst, peanutsand, emthen, grapesand, emthen, breadand, itthen, sandwichand, itcause, butterand, jellygood, butterand]   \n",
       "43959                                                                                                                                                                                                                                                                                                                                                             [conoscete, crema, siete, proprio, branco, froci, scatenati, succhiacazzi, volontagrave, il, crema, egrave, crema, cazzo, ogni, momento, egrave, quello, giusto]   \n",
       "47798                                                                                                                                                                                                                                                                                                                                                                            [mejor, que, usado, dia, hoyy, probado, marcas, diferenteslo, recomiendofunciona, perfectamentehidrata, increiblementelo, ciclismo, montantildea]   \n",
       "60210                                                                                                                                                                                                                                                                                                                                                                                                                                                                                    [cocido, fabada, chorizo, picante, spain]   \n",
       "63263                                                                                                                                                                                                                                                                                                                                                        [producto, que, sirve, perros, faacuteciles, masticar, buen, tamantildeo, perros, medianos, causan, molestias, estomacales, como, otro, tipo, galletas, perro, adora]   \n",
       "69424                                                                                                                                                                                                                                                                                                                                                                                                                                                               [jnrgisdxc, xd, jn, sd, hg, xzz, fg, jk, iyt, wq, gv, hjk, fg]   \n",
       "74840                                                                                                                                                                                                                                                                                                                               [chocoadicta, dicho, esto, debo, decir, que, nunca, penseacute, que, otro, producto, pudiera, desbancar, predileccioacuten, por, los, menta, como, eightno, saben, que, pierden, que, prueben]   \n",
       "76669                                                                                                                                                                                                                                                                                                                                                                                                                                          [envio, los, dulces, fue, muy, rapido, verdad, que, estos, dulces, deliciosossssss]   \n",
       "76734                                                                                                                                                                                                                                                                                                                                                                                                    [compreacute, como, regalo, usa, dicen, que, estaacute, muy, bueno, jamoacuten, navidentildeocesar, marchegianivenezuela]   \n",
       "82214                                                                                                                                                                                                                                                                                                                                                                                                             [mummumda, dadada, mamamum, mumum, ummumumkittynum, num, num, nom, nom, nomdoodoudoou, dadoudou, udoummm, mumum]   \n",
       "85604                                                                                                                                                                                                                                                                                                                              [nuevo, comentariolo, volvi, comprar, yl, vuelvo, probar, maravilloso, distinto, que, todos, perdon, tenia, sabor, porquereia, starbucksen, paladarel, dia, que, compres, gusta, pruebes, esto]   \n",
       "107158                                                                                                                                                                                                                                                                                                                                                                                                          [perfectshipped, immediatelyarrived, quicklyplants, larger, healthywell, shipmentarrived, safelytwo, im, happyjim]   \n",
       "109463                                                                                                                                                                                                                                                                                                                                                                                           [javais, deacutejagrave, une, seaco, comme, cellelagrave, est, pareil, mais, est, beaucoup, silencieuse, et, le, lait, cafeacute]   \n",
       "\n",
       "        nonen_prop  \n",
       "10273     0.647059  \n",
       "15753     0.655172  \n",
       "16448     0.692308  \n",
       "16622     0.758621  \n",
       "33998     0.777778  \n",
       "36801     0.631579  \n",
       "43815     0.653846  \n",
       "43959     0.727273  \n",
       "47798     0.619048  \n",
       "60210     0.625000  \n",
       "63263     0.666667  \n",
       "69424     0.631579  \n",
       "74840     0.677419  \n",
       "76669     0.769231  \n",
       "76734     0.666667  \n",
       "82214     0.769231  \n",
       "85604     0.709677  \n",
       "107158    0.692308  \n",
       "109463    0.625000  "
      ]
     },
     "execution_count": 37,
     "metadata": {},
     "output_type": "execute_result"
    }
   ],
   "source": [
    "#pd.set_option('display.max_colwidth', None)\n",
    "df.loc[df['nonen_prop']>.6]"
   ]
  },
  {
   "cell_type": "code",
   "execution_count": 38,
   "metadata": {},
   "outputs": [],
   "source": [
    "df=df[df['nonen_prop']<=.6]"
   ]
  },
  {
   "cell_type": "code",
   "execution_count": 39,
   "metadata": {},
   "outputs": [
    {
     "data": {
      "text/plain": [
       "(90715, 5)"
      ]
     },
     "execution_count": 39,
     "metadata": {},
     "output_type": "execute_result"
    }
   ],
   "source": [
    "df.shape"
   ]
  },
  {
   "cell_type": "markdown",
   "metadata": {},
   "source": [
    "## Create count-based BoW"
   ]
  },
  {
   "cell_type": "code",
   "execution_count": 40,
   "metadata": {},
   "outputs": [],
   "source": [
    "vec_uni=CountVectorizer(ngram_range=(1,1), stop_words=None)"
   ]
  },
  {
   "cell_type": "code",
   "execution_count": 41,
   "metadata": {},
   "outputs": [
    {
     "name": "stdout",
     "output_type": "stream",
     "text": [
      "(90715, 109925)\n",
      "<class 'scipy.sparse.csr.csr_matrix'>\n"
     ]
    }
   ],
   "source": [
    "text_list=df['reviews_text'].tolist()\n",
    "bog_uni=vec_uni.fit_transform(text_list)\n",
    "print(bog_uni.shape)\n",
    "print(type(bog_uni))"
   ]
  },
  {
   "cell_type": "code",
   "execution_count": 42,
   "metadata": {},
   "outputs": [
    {
     "data": {
      "text/plain": [
       "['aa',\n",
       " 'aaa',\n",
       " 'aaaa',\n",
       " 'aaaaa',\n",
       " 'aaaaaaaaaaaaaaa',\n",
       " 'aaaaaaarrrrrggghhh',\n",
       " 'aaaaahhhhhhhhhhhhhhhhthe',\n",
       " 'aaaaawill',\n",
       " 'aaadont',\n",
       " 'aaah']"
      ]
     },
     "execution_count": 42,
     "metadata": {},
     "output_type": "execute_result"
    }
   ],
   "source": [
    "col_names=vec_uni.get_feature_names()\n",
    "#bog_uni_pd=pd.DataFrame(bog_uni.toarray(), columns=col_names)\n",
    "col_names[0:10]"
   ]
  },
  {
   "cell_type": "code",
   "execution_count": 43,
   "metadata": {},
   "outputs": [
    {
     "name": "stdout",
     "output_type": "stream",
     "text": [
      "(90715, 12359)\n",
      "['aa', 'aafco', 'ab', 'aback', 'abandoned', 'abdominal', 'ability', 'able', 'abroad', 'absence']\n",
      "['boxerlove', 'tongueall', 'steakburger', 'ouncei', 'chinchilla', 'identification', 'downfalli', 'nothinghowever', 'greatloved', 'pleasedto']\n"
     ]
    }
   ],
   "source": [
    "vec_uni2=CountVectorizer(ngram_range=(1,1), stop_words=None, max_df=.95, min_df=10)\n",
    "bog_uni2=vec_uni2.fit_transform(text_list)\n",
    "print(bog_uni2.shape)\n",
    "print(vec_uni2.get_feature_names()[:10])\n",
    "print(list(vec_uni2.stop_words_)[:10])"
   ]
  },
  {
   "cell_type": "code",
   "execution_count": 44,
   "metadata": {},
   "outputs": [
    {
     "name": "stdout",
     "output_type": "stream",
     "text": [
      "(90715, 40117)\n",
      "['ability make', 'able add', 'able break', 'able buy', 'able chew', 'able cut', 'able digest', 'able drink', 'able eat', 'able enjoy']\n"
     ]
    }
   ],
   "source": [
    "vec_bi=CountVectorizer(ngram_range=(2,2), stop_words=None, min_df=10)\n",
    "bog_bi=vec_bi.fit_transform(text_list)\n",
    "print(bog_bi.shape)\n",
    "print(vec_bi.get_feature_names()[:10])"
   ]
  },
  {
   "cell_type": "code",
   "execution_count": null,
   "metadata": {},
   "outputs": [],
   "source": []
  },
  {
   "cell_type": "markdown",
   "metadata": {},
   "source": [
    "## Naive Bayes Model"
   ]
  },
  {
   "cell_type": "code",
   "execution_count": 45,
   "metadata": {},
   "outputs": [],
   "source": [
    "X=bog_uni2\n",
    "y=df[\"Sentiment\"]"
   ]
  },
  {
   "cell_type": "code",
   "execution_count": 55,
   "metadata": {},
   "outputs": [],
   "source": [
    "X_train=X[0:63500]\n",
    "y_train=y[0:63500]\n",
    "X_test=X[63500:]\n",
    "y_test=y[63500:]"
   ]
  },
  {
   "cell_type": "code",
   "execution_count": 48,
   "metadata": {},
   "outputs": [
    {
     "data": {
      "text/plain": [
       "((63500, 12359), (27215, 12359), (63500,))"
      ]
     },
     "execution_count": 48,
     "metadata": {},
     "output_type": "execute_result"
    }
   ],
   "source": [
    "#from sklearn.model_selection import train_test_split\n",
    "#X_train, X_test, y_train, y_test = train_test_split(X, y,random_state = 42,\n",
    "#                                                   test_size = 0.20)\n",
    "X_train.shape,X_test.shape,y_train.shape"
   ]
  },
  {
   "cell_type": "code",
   "execution_count": 49,
   "metadata": {},
   "outputs": [
    {
     "data": {
      "text/plain": [
       "'\\nclf = Pipeline([\\n    (\\'vect\\', CountVectorizer(stop_words= \"english\")),\\n    (\\'tfidf\\', TfidfTransformer()),\\n    (\\'classifier\\', MultinomialNB()),\\n    ])\\n'"
      ]
     },
     "execution_count": 49,
     "metadata": {},
     "output_type": "execute_result"
    }
   ],
   "source": [
    "from sklearn.pipeline import Pipeline\n",
    "from sklearn.feature_extraction.text import CountVectorizer, TfidfVectorizer, TfidfTransformer\n",
    "from sklearn.naive_bayes import MultinomialNB\n",
    "'''\n",
    "clf = Pipeline([\n",
    "    ('vect', CountVectorizer(stop_words= \"english\")),\n",
    "    ('tfidf', TfidfTransformer()),\n",
    "    ('classifier', MultinomialNB()),\n",
    "    ])\n",
    "'''"
   ]
  },
  {
   "cell_type": "code",
   "execution_count": 50,
   "metadata": {},
   "outputs": [],
   "source": [
    "clf = MultinomialNB()\n",
    "fit_model = clf.fit(X_train,y_train)"
   ]
  },
  {
   "cell_type": "code",
   "execution_count": 51,
   "metadata": {},
   "outputs": [],
   "source": [
    "y_pred = clf.predict(X_test)"
   ]
  },
  {
   "cell_type": "code",
   "execution_count": 52,
   "metadata": {},
   "outputs": [
    {
     "name": "stdout",
     "output_type": "stream",
     "text": [
      "Training accuracy: 0.9164724409448819\n",
      "Test accuracy: 0.9039132831159287\n"
     ]
    }
   ],
   "source": [
    "print('Training accuracy:', fit_model.score(X_train,y_train))\n",
    "print('Test accuracy:', fit_model.score(X_test,y_test))"
   ]
  },
  {
   "cell_type": "code",
   "execution_count": 53,
   "metadata": {},
   "outputs": [
    {
     "name": "stdout",
     "output_type": "stream",
     "text": [
      "              precision    recall  f1-score   support\n",
      "\n",
      "           0       0.68      0.72      0.70      4240\n",
      "           1       0.95      0.94      0.94     22975\n",
      "\n",
      "    accuracy                           0.90     27215\n",
      "   macro avg       0.81      0.83      0.82     27215\n",
      "weighted avg       0.91      0.90      0.90     27215\n",
      "\n",
      "[[ 3032  1208]\n",
      " [ 1407 21568]]\n"
     ]
    }
   ],
   "source": [
    "from sklearn.metrics import classification_report, confusion_matrix\n",
    "print(classification_report(y_test,y_pred))\n",
    "print(confusion_matrix(y_test,y_pred))"
   ]
  },
  {
   "cell_type": "markdown",
   "metadata": {},
   "source": [
    "## Bi-gram"
   ]
  },
  {
   "cell_type": "code",
   "execution_count": 54,
   "metadata": {},
   "outputs": [],
   "source": [
    "X=bog_bi\n",
    "y=df[\"Sentiment\"]"
   ]
  },
  {
   "cell_type": "code",
   "execution_count": 59,
   "metadata": {},
   "outputs": [],
   "source": [
    "X_train, X_test, y_train, y_test = train_test_split(X, y,random_state = 42,\n",
    "                                                   test_size = 0.20)"
   ]
  },
  {
   "cell_type": "code",
   "execution_count": 56,
   "metadata": {},
   "outputs": [],
   "source": [
    "fit_model = clf.fit(X_train,y_train)"
   ]
  },
  {
   "cell_type": "code",
   "execution_count": 57,
   "metadata": {},
   "outputs": [],
   "source": [
    "y_pred = clf.predict(X_test)"
   ]
  },
  {
   "cell_type": "code",
   "execution_count": 58,
   "metadata": {},
   "outputs": [
    {
     "name": "stdout",
     "output_type": "stream",
     "text": [
      "Training accuracy: 0.9445196850393701\n",
      "Test accuracy: 0.9058607385632923\n"
     ]
    }
   ],
   "source": [
    "print('Training accuracy:', fit_model.score(X_train,y_train))\n",
    "print('Test accuracy:', fit_model.score(X_test,y_test))"
   ]
  },
  {
   "cell_type": "code",
   "execution_count": 59,
   "metadata": {},
   "outputs": [
    {
     "name": "stdout",
     "output_type": "stream",
     "text": [
      "              precision    recall  f1-score   support\n",
      "\n",
      "           0       0.70      0.69      0.70      4240\n",
      "           1       0.94      0.94      0.94     22975\n",
      "\n",
      "    accuracy                           0.91     27215\n",
      "   macro avg       0.82      0.82      0.82     27215\n",
      "weighted avg       0.91      0.91      0.91     27215\n",
      "\n",
      "[[ 2943  1297]\n",
      " [ 1265 21710]]\n"
     ]
    }
   ],
   "source": [
    "print(classification_report(y_test,y_pred))\n",
    "print(confusion_matrix(y_test,y_pred))"
   ]
  },
  {
   "cell_type": "markdown",
   "metadata": {},
   "source": [
    "## TF-IDF"
   ]
  },
  {
   "cell_type": "code",
   "execution_count": 60,
   "metadata": {},
   "outputs": [
    {
     "name": "stdout",
     "output_type": "stream",
     "text": [
      "(90715, 12359)\n",
      "<class 'scipy.sparse.csr.csr_matrix'>\n",
      "['aa', 'aafco', 'ab', 'aback', 'abandoned', 'abdominal', 'ability', 'able', 'abroad', 'absence']\n"
     ]
    }
   ],
   "source": [
    "vec_tf=TfidfVectorizer(use_idf=True, smooth_idf=True, norm='l2', sublinear_tf=False, ngram_range=(1,1), \\\n",
    "                       stop_words=None, max_df=0.95, min_df=10)\n",
    "tf_uni=vec_tf.fit_transform(text_list)\n",
    "print(tf_uni.shape)\n",
    "print(type(tf_uni))\n",
    "print(vec_tf.get_feature_names()[:10])"
   ]
  },
  {
   "cell_type": "markdown",
   "metadata": {},
   "source": [
    "## Naive Bayes Model"
   ]
  },
  {
   "cell_type": "code",
   "execution_count": 61,
   "metadata": {},
   "outputs": [
    {
     "name": "stdout",
     "output_type": "stream",
     "text": [
      "Training accuracy: 0.8779842519685039\n",
      "Test accuracy: 0.8715046849164064\n",
      "              precision    recall  f1-score   support\n",
      "\n",
      "           0       0.90      0.20      0.32      4240\n",
      "           1       0.87      1.00      0.93     22975\n",
      "\n",
      "    accuracy                           0.87     27215\n",
      "   macro avg       0.88      0.60      0.63     27215\n",
      "weighted avg       0.87      0.87      0.83     27215\n",
      "\n",
      "[[  837  3403]\n",
      " [   94 22881]]\n"
     ]
    }
   ],
   "source": [
    "X=tf_uni\n",
    "y=df[\"Sentiment\"]\n",
    "#X_train, X_test, y_train, y_test = train_test_split(X, y,random_state = 42,\n",
    "#                                                   test_size = 0.20)\n",
    "X_train=X[0:63500]\n",
    "y_train=y[0:63500]\n",
    "X_test=X[63500:]\n",
    "y_test=y[63500:]\n",
    "fit_model = clf.fit(X_train,y_train)\n",
    "y_pred = clf.predict(X_test)\n",
    "print('Training accuracy:', fit_model.score(X_train,y_train))\n",
    "print('Test accuracy:', fit_model.score(X_test,y_test))\n",
    "print(classification_report(y_test,y_pred))\n",
    "print(confusion_matrix(y_test,y_pred))"
   ]
  },
  {
   "cell_type": "markdown",
   "metadata": {},
   "source": [
    "## XGBoost Model"
   ]
  },
  {
   "cell_type": "code",
   "execution_count": 62,
   "metadata": {},
   "outputs": [
    {
     "ename": "KeyboardInterrupt",
     "evalue": "",
     "output_type": "error",
     "traceback": [
      "\u001b[1;31m---------------------------------------------------------------------------\u001b[0m",
      "\u001b[1;31mKeyboardInterrupt\u001b[0m                         Traceback (most recent call last)",
      "\u001b[1;32m~\\AppData\\Local\\Temp/ipykernel_10172/1416325514.py\u001b[0m in \u001b[0;36m<module>\u001b[1;34m\u001b[0m\n\u001b[0;32m     10\u001b[0m \u001b[0mbst\u001b[0m \u001b[1;33m=\u001b[0m \u001b[0mxgb\u001b[0m\u001b[1;33m.\u001b[0m\u001b[0mXGBClassifier\u001b[0m\u001b[1;33m(\u001b[0m\u001b[1;33m)\u001b[0m\u001b[1;33m\u001b[0m\u001b[1;33m\u001b[0m\u001b[0m\n\u001b[0;32m     11\u001b[0m \u001b[0mclf\u001b[0m\u001b[1;33m=\u001b[0m\u001b[0mGridSearchCV\u001b[0m\u001b[1;33m(\u001b[0m\u001b[0mbst\u001b[0m\u001b[1;33m,\u001b[0m \u001b[0mparameters\u001b[0m\u001b[1;33m,\u001b[0m \u001b[0mn_jobs\u001b[0m\u001b[1;33m=\u001b[0m\u001b[1;33m-\u001b[0m\u001b[1;36m1\u001b[0m\u001b[1;33m,\u001b[0m \u001b[0mcv\u001b[0m\u001b[1;33m=\u001b[0m\u001b[1;36m5\u001b[0m\u001b[1;33m,\u001b[0m \u001b[0mscoring\u001b[0m\u001b[1;33m=\u001b[0m\u001b[1;34m\"accuracy\"\u001b[0m\u001b[1;33m,\u001b[0m \u001b[0mverbose\u001b[0m\u001b[1;33m=\u001b[0m\u001b[1;36m0\u001b[0m \u001b[1;33m)\u001b[0m\u001b[1;33m\u001b[0m\u001b[1;33m\u001b[0m\u001b[0m\n\u001b[1;32m---> 12\u001b[1;33m \u001b[0mclf\u001b[0m\u001b[1;33m.\u001b[0m\u001b[0mfit\u001b[0m\u001b[1;33m(\u001b[0m\u001b[0mX_train\u001b[0m\u001b[1;33m,\u001b[0m \u001b[0my_train\u001b[0m\u001b[1;33m)\u001b[0m\u001b[1;33m\u001b[0m\u001b[1;33m\u001b[0m\u001b[0m\n\u001b[0m\u001b[0;32m     13\u001b[0m \u001b[0mtime_lapse\u001b[0m\u001b[1;33m=\u001b[0m\u001b[0mtime\u001b[0m\u001b[1;33m.\u001b[0m\u001b[0mtime\u001b[0m\u001b[1;33m(\u001b[0m\u001b[1;33m)\u001b[0m\u001b[1;33m-\u001b[0m\u001b[0mstart_time\u001b[0m\u001b[1;33m\u001b[0m\u001b[1;33m\u001b[0m\u001b[0m\n\u001b[0;32m     14\u001b[0m \u001b[0mtime_lapse\u001b[0m\u001b[1;33m\u001b[0m\u001b[1;33m\u001b[0m\u001b[0m\n",
      "\u001b[1;32m~\\anaconda3\\lib\\site-packages\\sklearn\\utils\\validation.py\u001b[0m in \u001b[0;36minner_f\u001b[1;34m(*args, **kwargs)\u001b[0m\n\u001b[0;32m     61\u001b[0m             \u001b[0mextra_args\u001b[0m \u001b[1;33m=\u001b[0m \u001b[0mlen\u001b[0m\u001b[1;33m(\u001b[0m\u001b[0margs\u001b[0m\u001b[1;33m)\u001b[0m \u001b[1;33m-\u001b[0m \u001b[0mlen\u001b[0m\u001b[1;33m(\u001b[0m\u001b[0mall_args\u001b[0m\u001b[1;33m)\u001b[0m\u001b[1;33m\u001b[0m\u001b[1;33m\u001b[0m\u001b[0m\n\u001b[0;32m     62\u001b[0m             \u001b[1;32mif\u001b[0m \u001b[0mextra_args\u001b[0m \u001b[1;33m<=\u001b[0m \u001b[1;36m0\u001b[0m\u001b[1;33m:\u001b[0m\u001b[1;33m\u001b[0m\u001b[1;33m\u001b[0m\u001b[0m\n\u001b[1;32m---> 63\u001b[1;33m                 \u001b[1;32mreturn\u001b[0m \u001b[0mf\u001b[0m\u001b[1;33m(\u001b[0m\u001b[1;33m*\u001b[0m\u001b[0margs\u001b[0m\u001b[1;33m,\u001b[0m \u001b[1;33m**\u001b[0m\u001b[0mkwargs\u001b[0m\u001b[1;33m)\u001b[0m\u001b[1;33m\u001b[0m\u001b[1;33m\u001b[0m\u001b[0m\n\u001b[0m\u001b[0;32m     64\u001b[0m \u001b[1;33m\u001b[0m\u001b[0m\n\u001b[0;32m     65\u001b[0m             \u001b[1;31m# extra_args > 0\u001b[0m\u001b[1;33m\u001b[0m\u001b[1;33m\u001b[0m\u001b[0m\n",
      "\u001b[1;32m~\\anaconda3\\lib\\site-packages\\sklearn\\model_selection\\_search.py\u001b[0m in \u001b[0;36mfit\u001b[1;34m(self, X, y, groups, **fit_params)\u001b[0m\n\u001b[0;32m    839\u001b[0m                 \u001b[1;32mreturn\u001b[0m \u001b[0mresults\u001b[0m\u001b[1;33m\u001b[0m\u001b[1;33m\u001b[0m\u001b[0m\n\u001b[0;32m    840\u001b[0m \u001b[1;33m\u001b[0m\u001b[0m\n\u001b[1;32m--> 841\u001b[1;33m             \u001b[0mself\u001b[0m\u001b[1;33m.\u001b[0m\u001b[0m_run_search\u001b[0m\u001b[1;33m(\u001b[0m\u001b[0mevaluate_candidates\u001b[0m\u001b[1;33m)\u001b[0m\u001b[1;33m\u001b[0m\u001b[1;33m\u001b[0m\u001b[0m\n\u001b[0m\u001b[0;32m    842\u001b[0m \u001b[1;33m\u001b[0m\u001b[0m\n\u001b[0;32m    843\u001b[0m             \u001b[1;31m# multimetric is determined here because in the case of a callable\u001b[0m\u001b[1;33m\u001b[0m\u001b[1;33m\u001b[0m\u001b[0m\n",
      "\u001b[1;32m~\\anaconda3\\lib\\site-packages\\sklearn\\model_selection\\_search.py\u001b[0m in \u001b[0;36m_run_search\u001b[1;34m(self, evaluate_candidates)\u001b[0m\n\u001b[0;32m   1294\u001b[0m     \u001b[1;32mdef\u001b[0m \u001b[0m_run_search\u001b[0m\u001b[1;33m(\u001b[0m\u001b[0mself\u001b[0m\u001b[1;33m,\u001b[0m \u001b[0mevaluate_candidates\u001b[0m\u001b[1;33m)\u001b[0m\u001b[1;33m:\u001b[0m\u001b[1;33m\u001b[0m\u001b[1;33m\u001b[0m\u001b[0m\n\u001b[0;32m   1295\u001b[0m         \u001b[1;34m\"\"\"Search all candidates in param_grid\"\"\"\u001b[0m\u001b[1;33m\u001b[0m\u001b[1;33m\u001b[0m\u001b[0m\n\u001b[1;32m-> 1296\u001b[1;33m         \u001b[0mevaluate_candidates\u001b[0m\u001b[1;33m(\u001b[0m\u001b[0mParameterGrid\u001b[0m\u001b[1;33m(\u001b[0m\u001b[0mself\u001b[0m\u001b[1;33m.\u001b[0m\u001b[0mparam_grid\u001b[0m\u001b[1;33m)\u001b[0m\u001b[1;33m)\u001b[0m\u001b[1;33m\u001b[0m\u001b[1;33m\u001b[0m\u001b[0m\n\u001b[0m\u001b[0;32m   1297\u001b[0m \u001b[1;33m\u001b[0m\u001b[0m\n\u001b[0;32m   1298\u001b[0m \u001b[1;33m\u001b[0m\u001b[0m\n",
      "\u001b[1;32m~\\anaconda3\\lib\\site-packages\\sklearn\\model_selection\\_search.py\u001b[0m in \u001b[0;36mevaluate_candidates\u001b[1;34m(candidate_params, cv, more_results)\u001b[0m\n\u001b[0;32m    793\u001b[0m                               n_splits, n_candidates, n_candidates * n_splits))\n\u001b[0;32m    794\u001b[0m \u001b[1;33m\u001b[0m\u001b[0m\n\u001b[1;32m--> 795\u001b[1;33m                 out = parallel(delayed(_fit_and_score)(clone(base_estimator),\n\u001b[0m\u001b[0;32m    796\u001b[0m                                                        \u001b[0mX\u001b[0m\u001b[1;33m,\u001b[0m \u001b[0my\u001b[0m\u001b[1;33m,\u001b[0m\u001b[1;33m\u001b[0m\u001b[1;33m\u001b[0m\u001b[0m\n\u001b[0;32m    797\u001b[0m                                                        \u001b[0mtrain\u001b[0m\u001b[1;33m=\u001b[0m\u001b[0mtrain\u001b[0m\u001b[1;33m,\u001b[0m \u001b[0mtest\u001b[0m\u001b[1;33m=\u001b[0m\u001b[0mtest\u001b[0m\u001b[1;33m,\u001b[0m\u001b[1;33m\u001b[0m\u001b[1;33m\u001b[0m\u001b[0m\n",
      "\u001b[1;32m~\\anaconda3\\lib\\site-packages\\joblib\\parallel.py\u001b[0m in \u001b[0;36m__call__\u001b[1;34m(self, iterable)\u001b[0m\n\u001b[0;32m   1054\u001b[0m \u001b[1;33m\u001b[0m\u001b[0m\n\u001b[0;32m   1055\u001b[0m             \u001b[1;32mwith\u001b[0m \u001b[0mself\u001b[0m\u001b[1;33m.\u001b[0m\u001b[0m_backend\u001b[0m\u001b[1;33m.\u001b[0m\u001b[0mretrieval_context\u001b[0m\u001b[1;33m(\u001b[0m\u001b[1;33m)\u001b[0m\u001b[1;33m:\u001b[0m\u001b[1;33m\u001b[0m\u001b[1;33m\u001b[0m\u001b[0m\n\u001b[1;32m-> 1056\u001b[1;33m                 \u001b[0mself\u001b[0m\u001b[1;33m.\u001b[0m\u001b[0mretrieve\u001b[0m\u001b[1;33m(\u001b[0m\u001b[1;33m)\u001b[0m\u001b[1;33m\u001b[0m\u001b[1;33m\u001b[0m\u001b[0m\n\u001b[0m\u001b[0;32m   1057\u001b[0m             \u001b[1;31m# Make sure that we get a last message telling us we are done\u001b[0m\u001b[1;33m\u001b[0m\u001b[1;33m\u001b[0m\u001b[0m\n\u001b[0;32m   1058\u001b[0m             \u001b[0melapsed_time\u001b[0m \u001b[1;33m=\u001b[0m \u001b[0mtime\u001b[0m\u001b[1;33m.\u001b[0m\u001b[0mtime\u001b[0m\u001b[1;33m(\u001b[0m\u001b[1;33m)\u001b[0m \u001b[1;33m-\u001b[0m \u001b[0mself\u001b[0m\u001b[1;33m.\u001b[0m\u001b[0m_start_time\u001b[0m\u001b[1;33m\u001b[0m\u001b[1;33m\u001b[0m\u001b[0m\n",
      "\u001b[1;32m~\\anaconda3\\lib\\site-packages\\joblib\\parallel.py\u001b[0m in \u001b[0;36mretrieve\u001b[1;34m(self)\u001b[0m\n\u001b[0;32m    933\u001b[0m             \u001b[1;32mtry\u001b[0m\u001b[1;33m:\u001b[0m\u001b[1;33m\u001b[0m\u001b[1;33m\u001b[0m\u001b[0m\n\u001b[0;32m    934\u001b[0m                 \u001b[1;32mif\u001b[0m \u001b[0mgetattr\u001b[0m\u001b[1;33m(\u001b[0m\u001b[0mself\u001b[0m\u001b[1;33m.\u001b[0m\u001b[0m_backend\u001b[0m\u001b[1;33m,\u001b[0m \u001b[1;34m'supports_timeout'\u001b[0m\u001b[1;33m,\u001b[0m \u001b[1;32mFalse\u001b[0m\u001b[1;33m)\u001b[0m\u001b[1;33m:\u001b[0m\u001b[1;33m\u001b[0m\u001b[1;33m\u001b[0m\u001b[0m\n\u001b[1;32m--> 935\u001b[1;33m                     \u001b[0mself\u001b[0m\u001b[1;33m.\u001b[0m\u001b[0m_output\u001b[0m\u001b[1;33m.\u001b[0m\u001b[0mextend\u001b[0m\u001b[1;33m(\u001b[0m\u001b[0mjob\u001b[0m\u001b[1;33m.\u001b[0m\u001b[0mget\u001b[0m\u001b[1;33m(\u001b[0m\u001b[0mtimeout\u001b[0m\u001b[1;33m=\u001b[0m\u001b[0mself\u001b[0m\u001b[1;33m.\u001b[0m\u001b[0mtimeout\u001b[0m\u001b[1;33m)\u001b[0m\u001b[1;33m)\u001b[0m\u001b[1;33m\u001b[0m\u001b[1;33m\u001b[0m\u001b[0m\n\u001b[0m\u001b[0;32m    936\u001b[0m                 \u001b[1;32melse\u001b[0m\u001b[1;33m:\u001b[0m\u001b[1;33m\u001b[0m\u001b[1;33m\u001b[0m\u001b[0m\n\u001b[0;32m    937\u001b[0m                     \u001b[0mself\u001b[0m\u001b[1;33m.\u001b[0m\u001b[0m_output\u001b[0m\u001b[1;33m.\u001b[0m\u001b[0mextend\u001b[0m\u001b[1;33m(\u001b[0m\u001b[0mjob\u001b[0m\u001b[1;33m.\u001b[0m\u001b[0mget\u001b[0m\u001b[1;33m(\u001b[0m\u001b[1;33m)\u001b[0m\u001b[1;33m)\u001b[0m\u001b[1;33m\u001b[0m\u001b[1;33m\u001b[0m\u001b[0m\n",
      "\u001b[1;32m~\\anaconda3\\lib\\site-packages\\joblib\\_parallel_backends.py\u001b[0m in \u001b[0;36mwrap_future_result\u001b[1;34m(future, timeout)\u001b[0m\n\u001b[0;32m    540\u001b[0m         AsyncResults.get from multiprocessing.\"\"\"\n\u001b[0;32m    541\u001b[0m         \u001b[1;32mtry\u001b[0m\u001b[1;33m:\u001b[0m\u001b[1;33m\u001b[0m\u001b[1;33m\u001b[0m\u001b[0m\n\u001b[1;32m--> 542\u001b[1;33m             \u001b[1;32mreturn\u001b[0m \u001b[0mfuture\u001b[0m\u001b[1;33m.\u001b[0m\u001b[0mresult\u001b[0m\u001b[1;33m(\u001b[0m\u001b[0mtimeout\u001b[0m\u001b[1;33m=\u001b[0m\u001b[0mtimeout\u001b[0m\u001b[1;33m)\u001b[0m\u001b[1;33m\u001b[0m\u001b[1;33m\u001b[0m\u001b[0m\n\u001b[0m\u001b[0;32m    543\u001b[0m         \u001b[1;32mexcept\u001b[0m \u001b[0mCfTimeoutError\u001b[0m \u001b[1;32mas\u001b[0m \u001b[0me\u001b[0m\u001b[1;33m:\u001b[0m\u001b[1;33m\u001b[0m\u001b[1;33m\u001b[0m\u001b[0m\n\u001b[0;32m    544\u001b[0m             \u001b[1;32mraise\u001b[0m \u001b[0mTimeoutError\u001b[0m \u001b[1;32mfrom\u001b[0m \u001b[0me\u001b[0m\u001b[1;33m\u001b[0m\u001b[1;33m\u001b[0m\u001b[0m\n",
      "\u001b[1;32m~\\anaconda3\\lib\\concurrent\\futures\\_base.py\u001b[0m in \u001b[0;36mresult\u001b[1;34m(self, timeout)\u001b[0m\n\u001b[0;32m    438\u001b[0m                     \u001b[1;32mreturn\u001b[0m \u001b[0mself\u001b[0m\u001b[1;33m.\u001b[0m\u001b[0m__get_result\u001b[0m\u001b[1;33m(\u001b[0m\u001b[1;33m)\u001b[0m\u001b[1;33m\u001b[0m\u001b[1;33m\u001b[0m\u001b[0m\n\u001b[0;32m    439\u001b[0m \u001b[1;33m\u001b[0m\u001b[0m\n\u001b[1;32m--> 440\u001b[1;33m                 \u001b[0mself\u001b[0m\u001b[1;33m.\u001b[0m\u001b[0m_condition\u001b[0m\u001b[1;33m.\u001b[0m\u001b[0mwait\u001b[0m\u001b[1;33m(\u001b[0m\u001b[0mtimeout\u001b[0m\u001b[1;33m)\u001b[0m\u001b[1;33m\u001b[0m\u001b[1;33m\u001b[0m\u001b[0m\n\u001b[0m\u001b[0;32m    441\u001b[0m \u001b[1;33m\u001b[0m\u001b[0m\n\u001b[0;32m    442\u001b[0m                 \u001b[1;32mif\u001b[0m \u001b[0mself\u001b[0m\u001b[1;33m.\u001b[0m\u001b[0m_state\u001b[0m \u001b[1;32min\u001b[0m \u001b[1;33m[\u001b[0m\u001b[0mCANCELLED\u001b[0m\u001b[1;33m,\u001b[0m \u001b[0mCANCELLED_AND_NOTIFIED\u001b[0m\u001b[1;33m]\u001b[0m\u001b[1;33m:\u001b[0m\u001b[1;33m\u001b[0m\u001b[1;33m\u001b[0m\u001b[0m\n",
      "\u001b[1;32m~\\anaconda3\\lib\\threading.py\u001b[0m in \u001b[0;36mwait\u001b[1;34m(self, timeout)\u001b[0m\n\u001b[0;32m    310\u001b[0m         \u001b[1;32mtry\u001b[0m\u001b[1;33m:\u001b[0m    \u001b[1;31m# restore state no matter what (e.g., KeyboardInterrupt)\u001b[0m\u001b[1;33m\u001b[0m\u001b[1;33m\u001b[0m\u001b[0m\n\u001b[0;32m    311\u001b[0m             \u001b[1;32mif\u001b[0m \u001b[0mtimeout\u001b[0m \u001b[1;32mis\u001b[0m \u001b[1;32mNone\u001b[0m\u001b[1;33m:\u001b[0m\u001b[1;33m\u001b[0m\u001b[1;33m\u001b[0m\u001b[0m\n\u001b[1;32m--> 312\u001b[1;33m                 \u001b[0mwaiter\u001b[0m\u001b[1;33m.\u001b[0m\u001b[0macquire\u001b[0m\u001b[1;33m(\u001b[0m\u001b[1;33m)\u001b[0m\u001b[1;33m\u001b[0m\u001b[1;33m\u001b[0m\u001b[0m\n\u001b[0m\u001b[0;32m    313\u001b[0m                 \u001b[0mgotit\u001b[0m \u001b[1;33m=\u001b[0m \u001b[1;32mTrue\u001b[0m\u001b[1;33m\u001b[0m\u001b[1;33m\u001b[0m\u001b[0m\n\u001b[0;32m    314\u001b[0m             \u001b[1;32melse\u001b[0m\u001b[1;33m:\u001b[0m\u001b[1;33m\u001b[0m\u001b[1;33m\u001b[0m\u001b[0m\n",
      "\u001b[1;31mKeyboardInterrupt\u001b[0m: "
     ]
    }
   ],
   "source": [
    "import time\n",
    "from sklearn.model_selection import GridSearchCV\n",
    "#grid search\n",
    "start_time=time.time()\n",
    "parameters = {'max_depth': [3,5], \n",
    "              'learning_rate': [.05,.1], \n",
    "              'n_estimators': [300,500], \n",
    "              'subsample': [.8,1],\n",
    "              'reg_lambda': [0,.5]}\n",
    "bst = xgb.XGBClassifier()\n",
    "clf=GridSearchCV(bst, parameters, n_jobs=-1, cv=5, scoring=\"accuracy\", verbose=0 )\n",
    "clf.fit(X_train, y_train)\n",
    "time_lapse=time.time()-start_time\n",
    "time_lapse"
   ]
  },
  {
   "cell_type": "code",
   "execution_count": 66,
   "metadata": {},
   "outputs": [
    {
     "name": "stdout",
     "output_type": "stream",
     "text": [
      "[01:28:41] WARNING: ..\\src\\learner.cc:1115: Starting in XGBoost 1.3.0, the default evaluation metric used with the objective 'binary:logistic' was changed from 'error' to 'logloss'. Explicitly set eval_metric if you'd like to restore the old behavior.\n",
      "Training accuracy: 0.8728976377952756\n",
      "Test accuracy: 0.8693735072570273\n",
      "              precision    recall  f1-score   support\n",
      "\n",
      "           0       0.89      0.18      0.30      4240\n",
      "           1       0.87      1.00      0.93     22975\n",
      "\n",
      "    accuracy                           0.87     27215\n",
      "   macro avg       0.88      0.59      0.62     27215\n",
      "weighted avg       0.87      0.87      0.83     27215\n",
      "\n",
      "[[  777  3463]\n",
      " [   92 22883]]\n"
     ]
    }
   ],
   "source": [
    "\n",
    "#X_train, X_test, y_train, y_test = train_test_split(X, y,random_state = 42,\n",
    "#                                                   test_size = 0.20)\n",
    "params = {'max_depth': 4, 'learning_rate': .05, 'n_estimators': 500, \n",
    "          'n_jobs': -1, 'subsample': 1, 'reg_lambda': .5, 'random_state': 101}\n",
    "fit_model = xgb.XGBClassifier(**params)\n",
    "fit_model.fit(X_train, y_train)\n",
    "\n",
    "y_pred0=fit_model.predict(X_train)\n",
    "print('Training accuracy:',accuracy_score(y_train,y_pred0))\n",
    "y_pred=fit_model.predict(X_test)\n",
    "print('Test accuracy:', accuracy_score(y_test,y_pred))\n",
    "print(classification_report(y_test,y_pred))\n",
    "print(confusion_matrix(y_test,y_pred))"
   ]
  },
  {
   "cell_type": "code",
   "execution_count": null,
   "metadata": {},
   "outputs": [],
   "source": []
  }
 ],
 "metadata": {
  "kernelspec": {
   "display_name": "Python 3 (ipykernel)",
   "language": "python",
   "name": "python3"
  },
  "language_info": {
   "codemirror_mode": {
    "name": "ipython",
    "version": 3
   },
   "file_extension": ".py",
   "mimetype": "text/x-python",
   "name": "python",
   "nbconvert_exporter": "python",
   "pygments_lexer": "ipython3",
   "version": "3.9.7"
  }
 },
 "nbformat": 4,
 "nbformat_minor": 4
}
